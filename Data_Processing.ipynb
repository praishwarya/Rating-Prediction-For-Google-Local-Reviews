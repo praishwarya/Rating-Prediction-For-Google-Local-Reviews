{
  "nbformat": 4,
  "nbformat_minor": 0,
  "metadata": {
    "colab": {
      "provenance": []
    },
    "kernelspec": {
      "name": "python3",
      "display_name": "Python 3"
    },
    "language_info": {
      "name": "python"
    }
  },
  "cells": [
    {
      "cell_type": "code",
      "metadata": {
        "id": "Sl6igqKTsjOz"
      },
      "source": [
        "import gzip\n",
        "import os\n",
        "from collections import defaultdict\n",
        "import random\n",
        "import pandas as pd\n",
        "from sklearn import linear_model\n",
        "import dateutil.parser\n",
        "from datetime import timedelta\n",
        "from tqdm import tqdm\n",
        "import csv\n",
        "import pickle\n",
        "import numpy as np\n",
        "import xgboost as xgb\n",
        "# !pip install implicit\n",
        "# !pip install surprise\n",
        "# from implicit import bpr\n",
        "# from surprise import SVD, Reader, Dataset\n",
        "# from surprise.model_selection import train_test_split\n",
        "\n",
        "path = \"/content/drive/MyDrive/UCSD_assignments/CS258/Assignment2/working_folder\"\n",
        "os.chdir(path)\n",
        "\n",
        "def readGz(path):\n",
        "    for l in gzip.open(path, 'rt'):\n",
        "        yield eval(l)\n",
        "\n",
        "def readCSV(path):\n",
        "    f = gzip.open(path, 'rt')\n",
        "    c = csv.reader(f)\n",
        "    header = next(c)\n",
        "    for l in c:\n",
        "        d = dict(zip(header,l))\n",
        "        yield d['user_id'],d['recipe_id'],d\n",
        "\n",
        "def parse(f):\n",
        "    for l in gzip.open(f):\n",
        "        yield eval(l)"
      ],
      "execution_count": null,
      "outputs": []
    },
    {
      "cell_type": "code",
      "metadata": {
        "colab": {
          "base_uri": "https://localhost:8080/"
        },
        "id": "xOUt0I0ibikv",
        "outputId": "76114f21-813a-4215-a142-339c00034aea"
      },
      "source": [
        "print(user_data[0])\n",
        "#userName : string\n",
        "#jobs : nested list [['Tổng công ty IDICO', 'Chuyên viên Kỹ thuật XD', [[1, 1, 1998], [1, 1, 2013], 1], '', '']]\n",
        "#currentPlace : ['Thành phố Hồ Chí Minh, Việt Nam', [[], 108230990, 1066296640, 1]]\n",
        "#previousPlaces : [['tp. Nam Định, Nam Định, Việt Nam', [[], 204200000, 1061683330, 1]]]\n",
        "#education : nested list\n",
        "#gPlusUserId : string"
      ],
      "execution_count": null,
      "outputs": [
        {
          "output_type": "stream",
          "name": "stdout",
          "text": [
            "{'userName': 'an lam', 'jobs': [['Tổng công ty IDICO', 'Chuyên viên Kỹ thuật XD', [[1, 1, 1998], [1, 1, 2013], 1], '', '']], 'currentPlace': ['Thành phố Hồ Chí Minh, Việt Nam', [[], 108230990, 1066296640, 1]], 'previousPlaces': [['tp. Nam Định, Nam Định, Việt Nam', [[], 204200000, 1061683330, 1]]], 'education': [[[], [], [], [], [], 6], [['Đại học Kiến trúc tp Hồ chí minh, Việt nam', 'KS.XD', [[], [1, 1, 2013], 1], '', '']]], 'gPlusUserId': '100000010817154263736'}\n"
          ]
        }
      ]
    },
    {
      "cell_type": "code",
      "metadata": {
        "id": "Lv5kxdsUaWD7"
      },
      "source": [
        "print(places_data[0])\n",
        "#attributes of places_data\n",
        "#name : string\n",
        "#price : None /\n",
        "#address : list(strings)\n",
        "#hours : [['Monday', [['6:30 am--4:15 pm']], ['Tuesday', [['6:30 am--4:15 pm']]]] sometimes number like 1 is also there not sure why\n",
        "#phone : string\n",
        "#gPlusPlaceId : string\n",
        "#gps: [float,float]"
      ],
      "execution_count": null,
      "outputs": []
    },
    {
      "cell_type": "code",
      "metadata": {
        "id": "ClzASryK6nju"
      },
      "source": [
        "state_list = [\"AL\",\"AK\",\"AZ\",\"AR\",\"CA\",\"CO\",\"CT\",\"DE\",\"FL\",\"GA\",\"HI\",\"ID\",\"IL\",\"IN\",\"IA\",\"KS\",\"KY\",\"LA\",\"ME\",\"MD\",\"MA\",\"MI\",\"MN\",\"MS\",\"MO\",\"MT\",\"NE\",\"NV\",\"NH\",\"NJ\",\"NM\",\"NY\",\"NC\",\"ND\",\"OH\",\"OK\",\"OR\",\"PA\",\"RI\",\"SC\",\"SD\",\"TN\",\"TX\",\"UT\",\"VT\",\"VA\",\"WA\",\"WV\",\"WI\",\"WY\"]\n",
        "state_list = set(state_list)"
      ],
      "execution_count": null,
      "outputs": []
    },
    {
      "cell_type": "code",
      "metadata": {
        "id": "rRo7USHbB66f"
      },
      "source": [
        "req_places = []\n",
        "for d in places_data:\n",
        "  t = d[\"address\"][-1].split()\n",
        "  for ad in t:\n",
        "    if ad in state_list:\n",
        "      req_places.append(d)"
      ],
      "execution_count": null,
      "outputs": []
    },
    {
      "cell_type": "code",
      "metadata": {
        "id": "O1a5Ot-B_u6C"
      },
      "source": [
        "with open(\"USA_places.pkl\",\"rb\") as fp:\n",
        "  req_places = pickle.load(fp)"
      ],
      "execution_count": null,
      "outputs": []
    },
    {
      "cell_type": "code",
      "metadata": {
        "id": "y55Df7YlYQmi",
        "colab": {
          "base_uri": "https://localhost:8080/"
        },
        "outputId": "a26f3de9-ea5a-437d-f814-77271b4b8437"
      },
      "source": [
        "#places_data = list(parse(\"/content/drive/MyDrive/UCSD_assignments/CS258/Assignment2/places.clean.json.gz\"))\n",
        "user_data = list(parse(\"/content/drive/MyDrive/UCSD_assignments/CS258/Assignment2/users.clean.json.gz\"))\n",
        "#review_data = list(parse(\"/content/drive/MyDrive/UCSD_assignments/CS258/Assignment2/reviews.clean.json.gz\"))\n",
        "\n",
        "print(\"done\")"
      ],
      "execution_count": null,
      "outputs": [
        {
          "output_type": "stream",
          "name": "stdout",
          "text": [
            "done\n"
          ]
        }
      ]
    },
    {
      "cell_type": "code",
      "metadata": {
        "id": "Qve8as9JlXVe"
      },
      "source": [
        "# review_data = list(parse(\"/content/drive/MyDrive/UCSD_assignments/CS258/Assignment2/reviews.clean.json.gz\"))"
      ],
      "execution_count": null,
      "outputs": []
    },
    {
      "cell_type": "code",
      "metadata": {
        "id": "CvSkMLSaW9q_"
      },
      "source": [
        "# with open(\"/content/drive/MyDrive/UCSD_assignments/CS258/Assignment2/review_data_1.pkl\",\"rb\") as fp:\n",
        "#   review_data1 = pickle.load(fp)\n",
        "\n",
        "# with open(\"/content/drive/MyDrive/UCSD_assignments/CS258/Assignment2/review_data_2.pkl\",\"rb\") as fp:\n",
        "#   review_data1 = pickle.load(fp)\n",
        "\n",
        "# with open(\"/content/drive/MyDrive/UCSD_assignments/CS258/Assignment2/review_data_3.pkl\",\"rb\") as fp:\n",
        "#   review_data1 = pickle.load(fp)"
      ],
      "execution_count": null,
      "outputs": []
    },
    {
      "cell_type": "markdown",
      "metadata": {
        "id": "dpAf_mwHIjRX"
      },
      "source": []
    },
    {
      "cell_type": "code",
      "metadata": {
        "colab": {
          "base_uri": "https://localhost:8080/"
        },
        "id": "N86-t8c14pme",
        "outputId": "360d137f-a34a-4e30-b56a-b7a62824b58a"
      },
      "source": [
        "review_data1[2000]"
      ],
      "execution_count": null,
      "outputs": [
        {
          "output_type": "execute_result",
          "data": {
            "text/plain": [
              "{'categories': ['Rail Museum'],\n",
              " 'gPlusPlaceId': '105347280311281389796',\n",
              " 'gPlusUserId': '112235868676354256450',\n",
              " 'rating': 5.0,\n",
              " 'reviewText': None,\n",
              " 'reviewTime': 'Feb 26, 2013',\n",
              " 'reviewerName': 'sagarika Sindhu',\n",
              " 'unixReviewTime': 1361932656}"
            ]
          },
          "metadata": {},
          "execution_count": 18
        }
      ]
    },
    {
      "cell_type": "code",
      "metadata": {
        "colab": {
          "base_uri": "https://localhost:8080/"
        },
        "id": "vyk3mGJy_F0d",
        "outputId": "d78eda5c-fe28-472c-a933-2f144efdc30b"
      },
      "source": [
        "req_places[100000]"
      ],
      "execution_count": null,
      "outputs": [
        {
          "output_type": "execute_result",
          "data": {
            "text/plain": [
              "{'address': ['1406 W Expy 83', 'Weslaco, TX 78596'],\n",
              " 'closed': False,\n",
              " 'gPlusPlaceId': '103560782244834035321',\n",
              " 'gps': [26176207.0, -98024823.0],\n",
              " 'hours': [['Monday', [['8:00 am--9:00 pm']]],\n",
              "  ['Tuesday', [['8:00 am--9:00 pm']]],\n",
              "  ['Wednesday', [['8:00 am--9:00 pm']], 1],\n",
              "  ['Thursday', [['8:00 am--9:00 pm']]],\n",
              "  ['Friday', [['8:00 am--9:00 pm']]],\n",
              "  ['Saturday', [['9:00 am--9:00 pm']]],\n",
              "  ['Sunday', [['10:00 am--7:00 pm']]]],\n",
              " 'name': 'Office Depot',\n",
              " 'phone': '(956) 968-6207',\n",
              " 'price': '$$'}"
            ]
          },
          "metadata": {},
          "execution_count": 8
        }
      ]
    },
    {
      "cell_type": "code",
      "metadata": {
        "id": "ZDHnoiFZ_VGF"
      },
      "source": [
        "# with open(\"USA_places.pkl\",\"wb\") as fp:\n",
        "#   pickle.dump(req_places,fp)\n",
        "\n",
        "# with open(\"USA_places.pkl\",\"rb\") as fp:\n",
        "#   req_places = pickle.load(fp)"
      ],
      "execution_count": null,
      "outputs": []
    },
    {
      "cell_type": "code",
      "metadata": {
        "id": "Mc9KpNf2CMpO"
      },
      "source": [
        "place_ids = [d['gPlusPlaceId'] for d in req_places]\n",
        "place_id_set = set(place_ids)"
      ],
      "execution_count": null,
      "outputs": []
    },
    {
      "cell_type": "code",
      "metadata": {
        "id": "FFfHOTSAB-gD"
      },
      "source": [
        "review1_req = []\n",
        "for d in review_data1:\n",
        "  if d['gPlusPlaceId'] in place_id_set:\n",
        "    review1_req.append(d)"
      ],
      "execution_count": null,
      "outputs": []
    },
    {
      "cell_type": "code",
      "metadata": {
        "colab": {
          "base_uri": "https://localhost:8080/"
        },
        "id": "ZPre9xnuCp5M",
        "outputId": "514e6970-4113-4993-d6ed-a04af366a21e"
      },
      "source": [
        "len(review1_req)"
      ],
      "execution_count": null,
      "outputs": [
        {
          "output_type": "execute_result",
          "data": {
            "text/plain": [
              "1846049"
            ]
          },
          "metadata": {},
          "execution_count": 20
        }
      ]
    },
    {
      "cell_type": "code",
      "metadata": {
        "id": "81_25YQ3CuV6"
      },
      "source": [
        "# with open(\"USA_reviews1.pkl\",\"wb\") as fp:\n",
        "#   pickle.dump(review1_req,fp)\n",
        "\n",
        "# with open(\"USA_reviews2.pkl\",\"wb\") as fp:\n",
        "#   pickle.dump(review1_req,fp)\n",
        "\n",
        "# with open(\"USA_reviews3.pkl\",\"wb\") as fp:\n",
        "#   pickle.dump(review1_req,fp)\n",
        "\n",
        "# with open(\"USA_reviews1.pkl\",\"rb\") as fp:\n",
        "#   review1_req = pickle.load(fp)\n",
        "\n",
        "# with open(\"USA_reviews2.pkl\",\"rb\") as fp:\n",
        "#   review2_req = pickle.load(fp)\n",
        "\n",
        "with open(\"USA_reviews3.pkl\",\"rb\") as fp:\n",
        "  review3_req = pickle.load(fp)"
      ],
      "execution_count": null,
      "outputs": []
    },
    {
      "cell_type": "code",
      "metadata": {
        "id": "oYqALQb6HMfh"
      },
      "source": [
        "#filtering user data\n",
        "# user_ids = set([d['gPlusUserId'] for d in review3_req])"
      ],
      "execution_count": null,
      "outputs": []
    },
    {
      "cell_type": "code",
      "metadata": {
        "id": "RMS20i_kIxN2"
      },
      "source": [
        "with open(\"review1_uids.pkl\",\"rb\") as fp:\n",
        "  user_ids1 = pickle.load(fp)\n",
        "with open(\"review2_uids.pkl\",\"rb\") as fp:\n",
        "  user_ids2 = pickle.load(fp)\n",
        "with open(\"review3_uids.pkl\",\"rb\") as fp:\n",
        "  user_ids3 = pickle.load(fp)"
      ],
      "execution_count": null,
      "outputs": []
    },
    {
      "cell_type": "code",
      "metadata": {
        "id": "scC8bTTlJtpk"
      },
      "source": [
        "# all_user_ids = user_ids1.union(user_ids2).union(user_ids3)\n",
        "with open(\"All_req_uids.pkl\",\"rb\") as fp:\n",
        "  all_user_ids = pickle.load(fp)"
      ],
      "execution_count": null,
      "outputs": []
    },
    {
      "cell_type": "code",
      "metadata": {
        "id": "PRpuVXMhLFa3"
      },
      "source": [
        "req_users_info = []\n",
        "for d in user_data:\n",
        "  if d['gPlusUserId'] in all_user_ids:\n",
        "    req_users_info.append(d)"
      ],
      "execution_count": null,
      "outputs": []
    },
    {
      "cell_type": "code",
      "metadata": {
        "id": "UY2vy5lhMXSq"
      },
      "source": [
        "with open(\"User_Info_req.pkl\",\"wb\") as fp:\n",
        "  pickle.dump(req_users_info,fp)"
      ],
      "execution_count": null,
      "outputs": []
    }
  ]
}