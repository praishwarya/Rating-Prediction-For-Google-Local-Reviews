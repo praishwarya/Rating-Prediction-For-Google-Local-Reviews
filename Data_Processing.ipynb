{
  "cells": [
    {
      "cell_type": "code",
      "execution_count": null,
      "metadata": {
        "id": "Sl6igqKTsjOz"
      },
      "outputs": [],
      "source": [
        "import gzip\n",
        "import os\n",
        "from collections import defaultdict\n",
        "import random\n",
        "import pandas as pd\n",
        "from sklearn import linear_model\n",
        "import dateutil.parser\n",
        "from datetime import timedelta\n",
        "import csv\n",
        "import pickle\n",
        "import numpy as np\n",
        "\n",
        "path = \"./\"\n",
        "os.chdir(path)\n",
        "\n",
        "def readGz(path):\n",
        "    for l in gzip.open(path, 'rt'):\n",
        "        yield eval(l)\n",
        "\n",
        "def readCSV(path):\n",
        "    f = gzip.open(path, 'rt')\n",
        "    c = csv.reader(f)\n",
        "    header = next(c)\n",
        "    for l in c:\n",
        "        d = dict(zip(header,l))\n",
        "        yield d['user_id'],d['recipe_id'],d\n",
        "\n",
        "def parse(f):\n",
        "    for l in gzip.open(f):\n",
        "        yield eval(l)"
      ]
    },
    {
      "cell_type": "code",
      "execution_count": 4,
      "metadata": {},
      "outputs": [
        {
          "name": "stdout",
          "output_type": "stream",
          "text": [
            "done\n"
          ]
        }
      ],
      "source": [
        "places_data = list(parse(\"./data/places.clean.json.gz\"))\n",
        "user_data = list(parse(\"./data/users.clean.json.gz\"))\n",
        "review_data = list(parse(\"./data/reviews.clean.json.gz\"))\n",
        "\n",
        "print(\"done\")"
      ]
    },
    {
      "cell_type": "code",
      "execution_count": 5,
      "metadata": {
        "colab": {
          "base_uri": "https://localhost:8080/"
        },
        "id": "xOUt0I0ibikv",
        "outputId": "76114f21-813a-4215-a142-339c00034aea"
      },
      "outputs": [
        {
          "name": "stdout",
          "output_type": "stream",
          "text": [
            "{'userName': 'an lam', 'jobs': [['Tổng công ty IDICO', 'Chuyên viên Kỹ thuật XD', [[1, 1, 1998], [1, 1, 2013], 1], '', '']], 'currentPlace': ['Thành phố Hồ Chí Minh, Việt Nam', [[], 108230990, 1066296640, 1]], 'previousPlaces': [['tp. Nam Định, Nam Định, Việt Nam', [[], 204200000, 1061683330, 1]]], 'education': [[[], [], [], [], [], 6], [['Đại học Kiến trúc tp Hồ chí minh, Việt nam', 'KS.XD', [[], [1, 1, 2013], 1], '', '']]], 'gPlusUserId': '100000010817154263736'}\n"
          ]
        }
      ],
      "source": [
        "print(user_data[0])\n",
        "#userName : string\n",
        "#jobs : nested list [['Tổng công ty IDICO', 'Chuyên viên Kỹ thuật XD', [[1, 1, 1998], [1, 1, 2013], 1], '', '']]\n",
        "#currentPlace : ['Thành phố Hồ Chí Minh, Việt Nam', [[], 108230990, 1066296640, 1]]\n",
        "#previousPlaces : [['tp. Nam Định, Nam Định, Việt Nam', [[], 204200000, 1061683330, 1]]]\n",
        "#education : nested list\n",
        "#gPlusUserId : string"
      ]
    },
    {
      "cell_type": "code",
      "execution_count": 6,
      "metadata": {
        "id": "Lv5kxdsUaWD7"
      },
      "outputs": [
        {
          "name": "stdout",
          "output_type": "stream",
          "text": [
            "{'name': 'Diamond Valley Lake Marina', 'price': None, 'address': ['2615 Angler Ave', 'Hemet, CA 92545'], 'hours': [['Monday', [['6:30 am--4:15 pm']]], ['Tuesday', [['6:30 am--4:15 pm']]], ['Wednesday', [['6:30 am--4:15 pm']], 1], ['Thursday', [['6:30 am--4:15 pm']]], ['Friday', [['6:30 am--4:15 pm']]], ['Saturday', [['6:30 am--4:15 pm']]], ['Sunday', [['6:30 am--4:15 pm']]]], 'phone': '(951) 926-7201', 'closed': False, 'gPlusPlaceId': '104699454385822125632', 'gps': [33.703804, -117.003209]}\n"
          ]
        }
      ],
      "source": [
        "print(places_data[0])\n",
        "#attributes of places_data\n",
        "#name : string\n",
        "#price : None /\n",
        "#address : list(strings)\n",
        "#hours : [['Monday', [['6:30 am--4:15 pm']], ['Tuesday', [['6:30 am--4:15 pm']]]]\n",
        "#phone : string\n",
        "#gPlusPlaceId : string\n",
        "#gps: [float,float]"
      ]
    },
    {
      "cell_type": "code",
      "execution_count": 7,
      "metadata": {
        "id": "ClzASryK6nju"
      },
      "outputs": [],
      "source": [
        "state_list = [\"AL\",\"AK\",\"AZ\",\"AR\",\"CA\",\"CO\",\"CT\",\"DE\",\"FL\",\"GA\",\"HI\",\"ID\",\"IL\",\"IN\",\"IA\",\"KS\",\"KY\",\"LA\",\"ME\",\"MD\",\"MA\",\"MI\",\"MN\",\"MS\",\"MO\",\"MT\",\"NE\",\"NV\",\"NH\",\"NJ\",\"NM\",\"NY\",\"NC\",\"ND\",\"OH\",\"OK\",\"OR\",\"PA\",\"RI\",\"SC\",\"SD\",\"TN\",\"TX\",\"UT\",\"VT\",\"VA\",\"WA\",\"WV\",\"WI\",\"WY\"]\n",
        "state_list = set(state_list)"
      ]
    },
    {
      "cell_type": "code",
      "execution_count": 8,
      "metadata": {
        "id": "rRo7USHbB66f"
      },
      "outputs": [],
      "source": [
        "req_places = []\n",
        "for d in places_data:\n",
        "  t = d[\"address\"][-1].split()\n",
        "  for ad in t:\n",
        "    if ad in state_list:\n",
        "      req_places.append(d)"
      ]
    },
    {
      "cell_type": "code",
      "execution_count": null,
      "metadata": {
        "id": "O1a5Ot-B_u6C"
      },
      "outputs": [],
      "source": [
        "#with open(\"USA_places.pkl\",\"wb\") as fp:   \n",
        "#  pickle.dump(req_places,fp)\n",
        "\n",
        "#with open(\"USA_places.pkl\",\"rb\") as fp:\n",
        "#  req_places = pickle.load(fp)"
      ]
    },
    {
      "cell_type": "code",
      "execution_count": 9,
      "metadata": {},
      "outputs": [
        {
          "data": {
            "text/plain": [
              "{'name': 'Office Depot',\n",
              " 'price': '$$',\n",
              " 'address': ['1406 W Expy 83', 'Weslaco, TX 78596'],\n",
              " 'hours': [['Monday', [['8:00 am--9:00 pm']]],\n",
              "  ['Tuesday', [['8:00 am--9:00 pm']]],\n",
              "  ['Wednesday', [['8:00 am--9:00 pm']], 1],\n",
              "  ['Thursday', [['8:00 am--9:00 pm']]],\n",
              "  ['Friday', [['8:00 am--9:00 pm']]],\n",
              "  ['Saturday', [['9:00 am--9:00 pm']]],\n",
              "  ['Sunday', [['10:00 am--7:00 pm']]]],\n",
              " 'phone': '(956) 968-6207',\n",
              " 'closed': False,\n",
              " 'gPlusPlaceId': '103560782244834035321',\n",
              " 'gps': [26176207.0, -98024823.0]}"
            ]
          },
          "execution_count": 9,
          "metadata": {},
          "output_type": "execute_result"
        }
      ],
      "source": [
        "req_places[100000]"
      ]
    },
    {
      "cell_type": "code",
      "execution_count": 10,
      "metadata": {},
      "outputs": [],
      "source": [
        "place_ids = [d['gPlusPlaceId'] for d in req_places]\n",
        "place_id_set = set(place_ids)"
      ]
    },
    {
      "cell_type": "markdown",
      "metadata": {
        "id": "dpAf_mwHIjRX"
      },
      "source": []
    },
    {
      "cell_type": "code",
      "execution_count": 11,
      "metadata": {
        "colab": {
          "base_uri": "https://localhost:8080/"
        },
        "id": "N86-t8c14pme",
        "outputId": "360d137f-a34a-4e30-b56a-b7a62824b58a"
      },
      "outputs": [
        {
          "data": {
            "text/plain": [
              "{'rating': 4.0,\n",
              " 'reviewerName': 'Mitesh Shanbhag',\n",
              " 'reviewText': 'A churrascaria with a good selection of salads and meats. They offer rodízio service, but sadly no red/green cards. Also strange that the whole seating area is in a sort of conservatory - which gets pretty chilly (we went early Dec) and the meats go cold quickly. Good Service and the set buffet is very good value for money.',\n",
              " 'categories': ['Restaurant', 'South American Restaurant'],\n",
              " 'gPlusPlaceId': '109462445253079682250',\n",
              " 'unixReviewTime': 1354486457,\n",
              " 'reviewTime': 'Dec 2, 2012',\n",
              " 'gPlusUserId': '100002870366309555032'}"
            ]
          },
          "execution_count": 11,
          "metadata": {},
          "output_type": "execute_result"
        }
      ],
      "source": [
        "review_data[2000]"
      ]
    },
    {
      "cell_type": "code",
      "execution_count": 12,
      "metadata": {
        "id": "FFfHOTSAB-gD"
      },
      "outputs": [],
      "source": [
        "review1_req = []\n",
        "for d in review_data:\n",
        "  if d['gPlusPlaceId'] in place_id_set:\n",
        "    review1_req.append(d)"
      ]
    },
    {
      "cell_type": "code",
      "execution_count": 14,
      "metadata": {},
      "outputs": [
        {
          "data": {
            "text/plain": [
              "{'rating': 4.0,\n",
              " 'reviewerName': 'william spindler',\n",
              " 'reviewText': 'Best War Wanton soup in Red Bluff',\n",
              " 'categories': ['Asian Restaurant', 'Chinese Restaurant'],\n",
              " 'gPlusPlaceId': '106591714648856494903',\n",
              " 'unixReviewTime': 1394669496,\n",
              " 'reviewTime': 'Mar 12, 2014',\n",
              " 'gPlusUserId': '100000032416892623125'}"
            ]
          },
          "execution_count": 14,
          "metadata": {},
          "output_type": "execute_result"
        }
      ],
      "source": [
        "review1_req[0]"
      ]
    },
    {
      "cell_type": "code",
      "execution_count": null,
      "metadata": {
        "id": "81_25YQ3CuV6"
      },
      "outputs": [],
      "source": [
        "#with open(\"USA_reviews1.pkl\",\"wb\") as fp:\n",
        "#  pickle.dump(review1_req,fp)\n",
        "\n",
        "#with open(\"USA_reviews1.pkl\",\"rb\") as fp:\n",
        "#  review1_req = pickle.load(fp)"
      ]
    },
    {
      "cell_type": "code",
      "execution_count": 15,
      "metadata": {},
      "outputs": [],
      "source": [
        "req_places_dict = dict()\n",
        "for e in req_places:\n",
        "    if e['gPlusPlaceId'] not in req_places_dict:\n",
        "        req_places_dict[e['gPlusPlaceId']] = e['gps']"
      ]
    },
    {
      "cell_type": "code",
      "execution_count": 16,
      "metadata": {},
      "outputs": [],
      "source": [
        "for d in review1_req:\n",
        "    d['gps'] = req_places_dict[d['gPlusPlaceId']]\n"
      ]
    },
    {
      "cell_type": "code",
      "execution_count": 17,
      "metadata": {},
      "outputs": [
        {
          "data": {
            "text/plain": [
              "{'rating': 4.0,\n",
              " 'reviewerName': 'william spindler',\n",
              " 'reviewText': 'Best War Wanton soup in Red Bluff',\n",
              " 'categories': ['Asian Restaurant', 'Chinese Restaurant'],\n",
              " 'gPlusPlaceId': '106591714648856494903',\n",
              " 'unixReviewTime': 1394669496,\n",
              " 'reviewTime': 'Mar 12, 2014',\n",
              " 'gPlusUserId': '100000032416892623125',\n",
              " 'gps': [40.179159, -122.236162]}"
            ]
          },
          "execution_count": 17,
          "metadata": {},
          "output_type": "execute_result"
        }
      ],
      "source": [
        "review1_req[0]"
      ]
    },
    {
      "cell_type": "code",
      "execution_count": 18,
      "metadata": {},
      "outputs": [],
      "source": [
        "n_train_review1_req = int(0.7 * len(review1_req))\n",
        "train_review1_req = review1_req[:n_train_review1_req]\n",
        "\n",
        "n_val_review1_req = int(0.2 * len(review1_req))\n",
        "val_review1_req = review1_req[n_train_review1_req:n_train_review1_req+n_val_review1_req]\n",
        "\n",
        "n_test_review1_req = int(0.1 * len(review1_req))\n",
        "test_review1_req = review1_req[n_train_review1_req+n_val_review1_req:]"
      ]
    },
    {
      "cell_type": "code",
      "execution_count": null,
      "metadata": {},
      "outputs": [],
      "source": [
        "with open(\"Cat_price_filtered_review_train.pkl\",\"wb\") as fp:\n",
        "    pickle.dump(train_review1_req,fp)\n",
        "\n",
        "with open(\"Cat_price_filtered_review_val.pkl\",\"wb\") as fp:\n",
        "    pickle.dump(val_review1_req,fp)\n",
        "\n",
        "with open(\"Cat_price_filtered_review_test.pkl\",\"wb\") as fp:\n",
        "    pickle.dump(test_review1_req,fp)"
      ]
    },
    {
      "cell_type": "code",
      "execution_count": null,
      "metadata": {},
      "outputs": [],
      "source": [
        "top_dict = dict()\n",
        "for d in review1_req:\n",
        "    if d['categories'] != None:\n",
        "        k = str(d['categories'])\n",
        "        if k not in top_dict:\n",
        "            top_dict[k] = 1\n",
        "        else:\n",
        "            top_dict[k] = top_dict[k] + 1"
      ]
    },
    {
      "cell_type": "code",
      "execution_count": null,
      "metadata": {},
      "outputs": [],
      "source": [
        "sorted_top_dict = {k: v for k, v in sorted(top_dict.items(), key=lambda item: item[1], reverse = True)}\n",
        "sorted_top_list = list(sorted_top_dict.keys())[:50]\n",
        "sorted_top_list"
      ]
    },
    {
      "cell_type": "code",
      "execution_count": null,
      "metadata": {},
      "outputs": [],
      "source": [
        "with open(\"Top_Categories_50.pkl\",\"wb\") as fp:\n",
        "    pickle.dump(sorted_top_list,fp)"
      ]
    },
    {
      "cell_type": "code",
      "execution_count": 30,
      "metadata": {},
      "outputs": [
        {
          "data": {
            "text/plain": [
              "1396077471"
            ]
          },
          "execution_count": 30,
          "metadata": {},
          "output_type": "execute_result"
        }
      ],
      "source": [
        "time_li = [d['unixReviewTime'] for d in review1_req if d['unixReviewTime'] is not None]\n",
        "max_time = max(time_li)\n",
        "max_time"
      ]
    },
    {
      "cell_type": "code",
      "execution_count": 31,
      "metadata": {},
      "outputs": [],
      "source": [
        "req_places_dict = dict()\n",
        "for d in places_data:\n",
        "  t = d[\"address\"][-1].split()\n",
        "  for ad in t:\n",
        "    if ad in state_list:\n",
        "      req_places_dict[d['gPlusPlaceId']] = ad"
      ]
    },
    {
      "cell_type": "code",
      "execution_count": 72,
      "metadata": {},
      "outputs": [],
      "source": [
        "review2_req = []\n",
        "for d in review1_req:\n",
        "    if d['unixReviewTime'] is not None:\n",
        "        d['parsed_time'] = d['unixReviewTime']/max_time\n",
        "        d['state'] = req_places_dict[d['gPlusPlaceId']]\n",
        "        review2_req.append(d)"
      ]
    },
    {
      "cell_type": "code",
      "execution_count": null,
      "metadata": {},
      "outputs": [],
      "source": [
        "n_train_review2_req = int(0.7 * len(review2_req))\n",
        "n_train_review2_req"
      ]
    },
    {
      "cell_type": "code",
      "execution_count": null,
      "metadata": {},
      "outputs": [],
      "source": [
        "train_review2_req = review2_req[:n_train_review2_req]\n",
        "len(train_review2_req)"
      ]
    },
    {
      "cell_type": "code",
      "execution_count": null,
      "metadata": {},
      "outputs": [],
      "source": [
        "with open(\"Filtered_train.pkl\",\"wb\") as fp:\n",
        "  pickle.dump(train_review2_req,fp)"
      ]
    },
    {
      "cell_type": "code",
      "execution_count": null,
      "metadata": {},
      "outputs": [],
      "source": [
        "#train_review2_req = []\n",
        "#with open(\"Filtered_train.pkl\",\"rb\") as fp:\n",
        "#  train_review2_req = pickle.load(fp)"
      ]
    },
    {
      "cell_type": "code",
      "execution_count": 76,
      "metadata": {},
      "outputs": [
        {
          "data": {
            "text/plain": [
              "{'rating': 4.0,\n",
              " 'reviewerName': 'william spindler',\n",
              " 'reviewText': 'Best War Wanton soup in Red Bluff',\n",
              " 'categories': ['Asian Restaurant', 'Chinese Restaurant'],\n",
              " 'gPlusPlaceId': '106591714648856494903',\n",
              " 'unixReviewTime': 1394669496,\n",
              " 'reviewTime': 'Mar 12, 2014',\n",
              " 'gPlusUserId': '100000032416892623125',\n",
              " 'gps': [40.179159, -122.236162],\n",
              " 'parsed_time': 0.9989914778876909,\n",
              " 'state': 'CA'}"
            ]
          },
          "execution_count": 76,
          "metadata": {},
          "output_type": "execute_result"
        }
      ],
      "source": [
        "train_review2_req[0]"
      ]
    },
    {
      "cell_type": "code",
      "execution_count": 77,
      "metadata": {},
      "outputs": [],
      "source": [
        "with open(\"Sampled_by_review_count_train_state.pkl\",\"wb\") as fp:\n",
        "    pickle.dump(train_review2_req,fp)"
      ]
    },
    {
      "cell_type": "code",
      "execution_count": null,
      "metadata": {},
      "outputs": [],
      "source": [
        "n_val_review2_req = int(0.2 * len(review2_req))\n",
        "n_val_review2_req"
      ]
    },
    {
      "cell_type": "code",
      "execution_count": null,
      "metadata": {},
      "outputs": [],
      "source": [
        "val_review2_req = review2_req[n_train_review2_req:n_train_review2_req+n_val_review2_req]\n",
        "len(val_review2_req)"
      ]
    },
    {
      "cell_type": "code",
      "execution_count": null,
      "metadata": {},
      "outputs": [],
      "source": [
        "#with open(\"Filtered_val.pkl\",\"wb\") as fp:\n",
        "#  pickle.dump(val_review2_req,fp)"
      ]
    },
    {
      "cell_type": "code",
      "execution_count": 80,
      "metadata": {},
      "outputs": [
        {
          "data": {
            "text/plain": [
              "{'rating': 5.0,\n",
              " 'reviewerName': 'Michael Papion',\n",
              " 'reviewText': 'Had a great experience here, took my car in and he had a look at it free of charge and really helped me out. Great customer service and overall knowledge of his trade. I would definitely go to this repair shop again.',\n",
              " 'categories': ['Auto Repair Shop'],\n",
              " 'gPlusPlaceId': '116202076999428044236',\n",
              " 'unixReviewTime': 1379738808,\n",
              " 'reviewTime': 'Sep 20, 2013',\n",
              " 'gPlusUserId': '112681887780302676378',\n",
              " 'gps': [33.832286, -117.959669],\n",
              " 'parsed_time': 0.9882967361486775,\n",
              " 'state': 'CA'}"
            ]
          },
          "execution_count": 80,
          "metadata": {},
          "output_type": "execute_result"
        }
      ],
      "source": [
        "val_review2_req[0]"
      ]
    },
    {
      "cell_type": "code",
      "execution_count": 81,
      "metadata": {},
      "outputs": [],
      "source": [
        "with open(\"Sampled_by_review_count_val_state.pkl\",\"wb\") as fp:\n",
        "    pickle.dump(val_review2_req,fp)"
      ]
    },
    {
      "cell_type": "code",
      "execution_count": null,
      "metadata": {},
      "outputs": [],
      "source": [
        "n_test_review2_req = int(0.1 * len(review2_req))\n",
        "n_test_review2_req"
      ]
    },
    {
      "cell_type": "code",
      "execution_count": null,
      "metadata": {},
      "outputs": [],
      "source": [
        "test_review2_req = review2_req[n_train_review2_req+n_val_review2_req:]\n",
        "len(test_review2_req)"
      ]
    },
    {
      "cell_type": "code",
      "execution_count": null,
      "metadata": {},
      "outputs": [],
      "source": [
        "#with open(\"Filtered_test.pkl\",\"wb\") as fp:\n",
        "#  pickle.dump(test_review2_req,fp)"
      ]
    },
    {
      "cell_type": "code",
      "execution_count": 84,
      "metadata": {},
      "outputs": [
        {
          "data": {
            "text/plain": [
              "{'rating': 2.0,\n",
              " 'reviewerName': 'Craig Boswell',\n",
              " 'reviewText': 'A good company perhaps, but you pay the extra for \"my family to yours\". Other companies equally qualified all will do it for less.',\n",
              " 'categories': ['Plumber'],\n",
              " 'gPlusPlaceId': '101960293183859199370',\n",
              " 'unixReviewTime': 1366408437,\n",
              " 'reviewTime': 'Apr 19, 2013',\n",
              " 'gPlusUserId': '116383650056653356510',\n",
              " 'gps': [33.4159, -111.793652],\n",
              " 'parsed_time': 0.9787482896785461,\n",
              " 'state': 'AZ'}"
            ]
          },
          "execution_count": 84,
          "metadata": {},
          "output_type": "execute_result"
        }
      ],
      "source": [
        "test_review2_req[0]"
      ]
    },
    {
      "cell_type": "code",
      "execution_count": 85,
      "metadata": {},
      "outputs": [],
      "source": [
        "with open(\"Sampled_by_review_count_test_state.pkl\",\"wb\") as fp:\n",
        "    pickle.dump(test_review2_req,fp)"
      ]
    },
    {
      "cell_type": "code",
      "execution_count": 33,
      "metadata": {},
      "outputs": [],
      "source": [
        "price_filtered_places = []\n",
        "for d in req_places:\n",
        "    if d['price'] != '' and d['price'] != None:\n",
        "        price_filtered_places.append(d)"
      ]
    },
    {
      "cell_type": "code",
      "execution_count": 34,
      "metadata": {},
      "outputs": [
        {
          "data": {
            "text/plain": [
              "{'name': \"T C's Referee Sports Bar\",\n",
              " 'price': '$$',\n",
              " 'address': ['5322 W 26th St', 'Sioux Falls, SD 57106'],\n",
              " 'hours': [['Monday', [['11:00 am--10:00 pm']]],\n",
              "  ['Tuesday', [['11:00 am--10:00 pm']], 1],\n",
              "  ['Wednesday', [['11:00 am--10:00 pm']]],\n",
              "  ['Thursday', [['11:00 am--10:00 pm']]],\n",
              "  ['Friday', [['11:00 am--1:00 am']]],\n",
              "  ['Saturday', [['11:00 am--1:00 am']]],\n",
              "  ['Sunday', [['11:00 am--10:00 pm']]]],\n",
              " 'phone': '(605) 361-2208',\n",
              " 'closed': False,\n",
              " 'gPlusPlaceId': '100327153115986850675',\n",
              " 'gps': [43.529494, -96.792244]}"
            ]
          },
          "execution_count": 34,
          "metadata": {},
          "output_type": "execute_result"
        }
      ],
      "source": [
        "price_filtered_places[0]"
      ]
    },
    {
      "cell_type": "code",
      "execution_count": null,
      "metadata": {},
      "outputs": [],
      "source": [
        "with open(\"Price_filtered_places.pkl\",\"wb\") as fp:\n",
        "    pickle.dump(price_filtered_places,fp)"
      ]
    },
    {
      "cell_type": "code",
      "execution_count": 20,
      "metadata": {
        "id": "oYqALQb6HMfh"
      },
      "outputs": [],
      "source": [
        "#filtering user data\n",
        "user_ids = set([d['gPlusUserId'] for d in review1_req])"
      ]
    },
    {
      "cell_type": "code",
      "execution_count": 27,
      "metadata": {
        "id": "PRpuVXMhLFa3"
      },
      "outputs": [],
      "source": [
        "req_users_info = []\n",
        "for d in user_data:\n",
        "  if d['gPlusUserId'] in user_ids:\n",
        "    req_users_info.append(d)"
      ]
    },
    {
      "cell_type": "code",
      "execution_count": 28,
      "metadata": {
        "id": "UY2vy5lhMXSq"
      },
      "outputs": [],
      "source": [
        "with open(\"User_Info_req.pkl\",\"wb\") as fp:\n",
        "  pickle.dump(req_users_info,fp)"
      ]
    }
  ],
  "metadata": {
    "colab": {
      "provenance": []
    },
    "kernelspec": {
      "display_name": "Python 3",
      "name": "python3"
    },
    "language_info": {
      "codemirror_mode": {
        "name": "ipython",
        "version": 3
      },
      "file_extension": ".py",
      "mimetype": "text/x-python",
      "name": "python",
      "nbconvert_exporter": "python",
      "pygments_lexer": "ipython3",
      "version": "3.9.6"
    }
  },
  "nbformat": 4,
  "nbformat_minor": 0
}
