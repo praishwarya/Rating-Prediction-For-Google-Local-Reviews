{
  "nbformat": 4,
  "nbformat_minor": 0,
  "metadata": {
    "colab": {
      "provenance": []
    },
    "kernelspec": {
      "name": "python3",
      "display_name": "Python 3"
    },
    "language_info": {
      "name": "python"
    }
  },
  "cells": [
    {
      "cell_type": "code",
      "metadata": {
        "colab": {
          "base_uri": "https://localhost:8080/"
        },
        "id": "kQWN70T1K5fN",
        "outputId": "17e8a070-bc8e-4554-85ef-bce1eb58f97e"
      },
      "source": [
        "!pip install fastFM==0.2.9"
      ],
      "execution_count": null,
      "outputs": [
        {
          "output_type": "stream",
          "name": "stdout",
          "text": [
            "Looking in indexes: https://pypi.org/simple, https://us-python.pkg.dev/colab-wheels/public/simple/\n",
            "Collecting fastFM==0.2.9\n",
            "  Downloading fastFM-0.2.9.tar.gz (259 kB)\n",
            "\u001b[K     |████████████████████████████████| 259 kB 6.0 MB/s \n",
            "\u001b[?25hRequirement already satisfied: numpy in /usr/local/lib/python3.7/dist-packages (from fastFM==0.2.9) (1.21.6)\n",
            "Requirement already satisfied: scikit-learn in /usr/local/lib/python3.7/dist-packages (from fastFM==0.2.9) (1.0.2)\n",
            "Requirement already satisfied: scipy in /usr/local/lib/python3.7/dist-packages (from fastFM==0.2.9) (1.7.3)\n",
            "Requirement already satisfied: threadpoolctl>=2.0.0 in /usr/local/lib/python3.7/dist-packages (from scikit-learn->fastFM==0.2.9) (3.1.0)\n",
            "Requirement already satisfied: joblib>=0.11 in /usr/local/lib/python3.7/dist-packages (from scikit-learn->fastFM==0.2.9) (1.2.0)\n",
            "Building wheels for collected packages: fastFM\n",
            "  Building wheel for fastFM (setup.py) ... \u001b[?25l\u001b[?25hdone\n",
            "  Created wheel for fastFM: filename=fastFM-0.2.9-cp37-cp37m-linux_x86_64.whl size=432612 sha256=ad0d2b69b9980cb55590050303c38f8a7deb8f8aee2665aa551d08c55c43b8a6\n",
            "  Stored in directory: /root/.cache/pip/wheels/73/64/93/8ac211b2001b1befac04bb1579dcf7bdd583afef4fd41c1a39\n",
            "Successfully built fastFM\n",
            "Installing collected packages: fastFM\n",
            "Successfully installed fastFM-0.2.9\n"
          ]
        }
      ]
    },
    {
      "cell_type": "code",
      "metadata": {
        "id": "TqyWyv33L7Tb"
      },
      "source": [
        "# !pip list | grep fastFM"
      ],
      "execution_count": null,
      "outputs": []
    },
    {
      "cell_type": "code",
      "metadata": {
        "id": "6Xw8T-0gMK-j"
      },
      "source": [
        "# !apt-get install python-dev libopenblas-dev\n",
        "# !git clone --recursive https://github.com/ibayer/fastFM.git\n",
        "# import os\n",
        "# os.chdir(\"/content/fastFM/\")\n",
        "# !pip install -r ./requirements.txt\n",
        "# !make\n",
        "# !PYTHON=python3 make\n",
        "# !pip install ."
      ],
      "execution_count": null,
      "outputs": []
    },
    {
      "cell_type": "code",
      "metadata": {
        "id": "3aFQIl0UMnfe"
      },
      "source": [
        "import os, numpy as np\n",
        "path = \"/content/drive/MyDrive/UCSD_assignments/CS258/Assignment2/working_folder\"\n",
        "os.chdir(path)"
      ],
      "execution_count": null,
      "outputs": []
    },
    {
      "cell_type": "code",
      "metadata": {
        "id": "XguLVs7RJiya"
      },
      "source": [
        "import gzip\n",
        "import matplotlib.pyplot as plt\n",
        "import numpy as np\n",
        "import random\n",
        "import scipy\n",
        "from collections import defaultdict\n",
        "from fastFM import als\n",
        "from scipy.spatial import distance\n",
        "import csv\n",
        "import dateutil.parser\n",
        "from datetime import timedelta\n",
        "import pickle"
      ],
      "execution_count": null,
      "outputs": []
    },
    {
      "cell_type": "code",
      "metadata": {
        "id": "iXA2QhcwPhY0"
      },
      "source": [
        "def MSE(predictions, labels):\n",
        "    differences = [(x-y)**2 for x,y in zip(predictions,labels)]\n",
        "    return sum(differences) / len(differences)"
      ],
      "execution_count": null,
      "outputs": []
    },
    {
      "cell_type": "code",
      "metadata": {
        "id": "qd2OIoQTMfUF"
      },
      "source": [
        "# with open(\"Cat_price_filtered_review_train.pkl\",\"rb\") as fp:\n",
        "#      all_dicts = pickle.load(fp)\n",
        "\n",
        "# with open(\"Cat_price_filtered_review_test.pkl\",\"rb\") as fp:\n",
        "#      test_dicts = pickle.load(fp)\n",
        "\n",
        "with open(\"Sampled_by_review_count_train_state.pkl\",\"rb\") as fp:\n",
        "     train_dicts = pickle.load(fp)\n",
        "\n",
        "with open(\"Sampled_by_review_count_val_state.pkl\",\"rb\") as fp:\n",
        "     val_dicts = pickle.load(fp)\n",
        "\n",
        "with open(\"Sampled_by_review_count_test_state.pkl\",\"rb\") as fp:\n",
        "     test_dicts = pickle.load(fp)"
      ],
      "execution_count": null,
      "outputs": []
    },
    {
      "cell_type": "code",
      "metadata": {
        "colab": {
          "base_uri": "https://localhost:8080/"
        },
        "id": "5tsetfUN4Y36",
        "outputId": "d6277046-76bf-4e05-8855-63061a3c36fa"
      },
      "source": [
        "# len(all_dicts)"
      ],
      "execution_count": null,
      "outputs": [
        {
          "output_type": "execute_result",
          "data": {
            "text/plain": [
              "749747"
            ]
          },
          "metadata": {},
          "execution_count": 8
        }
      ]
    },
    {
      "cell_type": "code",
      "metadata": {
        "colab": {
          "base_uri": "https://localhost:8080/"
        },
        "id": "4diF4Sp-bHSR",
        "outputId": "78364583-324d-4463-8345-f22035f3d244"
      },
      "source": [
        "len(all_dicts)"
      ],
      "execution_count": null,
      "outputs": [
        {
          "output_type": "execute_result",
          "data": {
            "text/plain": [
              "383133"
            ]
          },
          "metadata": {},
          "execution_count": 7
        }
      ]
    },
    {
      "cell_type": "code",
      "metadata": {
        "id": "duy946Qu4kGd"
      },
      "source": [
        "# train_dicts = all_dicts[:700000]\n",
        "# test_dicts = all_dicts[700000:]"
      ],
      "execution_count": null,
      "outputs": []
    },
    {
      "cell_type": "code",
      "metadata": {
        "id": "BlzrpMiG5wpg"
      },
      "source": [
        "# val_dicts = all_dicts[600000:]\n",
        "# train_dicts = all_dicts[:600000]"
      ],
      "execution_count": null,
      "outputs": []
    },
    {
      "cell_type": "code",
      "metadata": {
        "id": "Y-3Wo1fl4y1C"
      },
      "source": [
        "# with open(\"Cat_price_filtered_review_test.pkl\",\"wb\") as fp:\n",
        "#      pickle.dump(test_dicts,fp)"
      ],
      "execution_count": null,
      "outputs": []
    },
    {
      "cell_type": "code",
      "metadata": {
        "id": "OI4Ad2h95CPt"
      },
      "source": [
        "# with open(\"Cat_price_filtered_review_train.pkl\",\"wb\") as fp:\n",
        "#      pickle.dump(train_dicts,fp)"
      ],
      "execution_count": null,
      "outputs": []
    },
    {
      "cell_type": "code",
      "metadata": {
        "id": "akBAIiM8PdgC"
      },
      "source": [
        "with open(\"Price_filtered_places.pkl\",\"rb\") as fp:\n",
        "     filtered_places = pickle.load(fp)"
      ],
      "execution_count": null,
      "outputs": []
    },
    {
      "cell_type": "code",
      "metadata": {
        "id": "lQNsqSJTVVin"
      },
      "source": [
        "#Places mapping from place id to its attributes\n",
        "\n",
        "places_meta_data = defaultdict(dict)\n",
        "for d in filtered_places:\n",
        "  places_meta_data[d['gPlusPlaceId']] = d"
      ],
      "execution_count": null,
      "outputs": []
    },
    {
      "cell_type": "code",
      "metadata": {
        "colab": {
          "base_uri": "https://localhost:8080/"
        },
        "id": "EliMuVXtNkaq",
        "outputId": "fdc470bb-14e1-4aef-947e-16718f54b3a0"
      },
      "source": [
        "train_dicts[0]"
      ],
      "execution_count": null,
      "outputs": [
        {
          "output_type": "execute_result",
          "data": {
            "text/plain": [
              "{'categories': ['Asian Restaurant', 'Chinese Restaurant'],\n",
              " 'gPlusPlaceId': '106591714648856494903',\n",
              " 'gPlusUserId': '100000032416892623125',\n",
              " 'gps': (40.179159, -122.236162),\n",
              " 'parsed_time': 0.998995623918814,\n",
              " 'rating': 4,\n",
              " 'reviewText': 'Best War Wanton soup in Red Bluff',\n",
              " 'reviewTime': 'Mar 12, 2014',\n",
              " 'reviewerName': 'william spindler',\n",
              " 'state': 'CA',\n",
              " 'unixReviewTime': 1394669496}"
            ]
          },
          "metadata": {},
          "execution_count": 11
        }
      ]
    },
    {
      "cell_type": "code",
      "metadata": {
        "id": "yp9n0ITXNSaF"
      },
      "source": [
        "users = set([x['gPlusUserId'] for x in train_dicts])\n",
        "nUsers = len(users)\n",
        "places = set([x['gPlusPlaceId'] for x in train_dicts])\n",
        "nPlaces = len(places)\n",
        "\n",
        "prices = set([x['price'] for x in filtered_places])\n",
        "nPrices = len(prices)\n",
        "\n",
        "user_di = {user:i for i,user in enumerate(list(users))}\n",
        "place_di = {place:i for i,place in enumerate(list(places))}\n",
        "price_di = {price:i for i,price in enumerate(list(prices))}"
      ],
      "execution_count": null,
      "outputs": []
    },
    {
      "cell_type": "code",
      "metadata": {
        "id": "8V5gXvO0OswX"
      },
      "source": [
        "X = scipy.sparse.lil_matrix((len(all_dicts), nUsers + nPlaces + nPrices))\n",
        "\n",
        "for i in range(len(all_dicts)):\n",
        "    user = user_di[all_dicts[i]['gPlusUserId']]\n",
        "    item = place_di[all_dicts[i]['gPlusPlaceId']]\n",
        "    price = price_di[places_meta_data[all_dicts[i]['gPlusPlaceId']]['price']]\n",
        "    X[i,user] = 1 # One-hot encoding of user\n",
        "    X[i,nUsers + item] = 1 # One-hot encoding of item\n",
        "    X[i,nUsers + nPlaces+price] = 1\n",
        "\n",
        "y = numpy.array([d['rating'] for d in all_dicts])\n",
        "\n",
        "# split = int(0.8*len(all_dicts))\n",
        "# X_train,y_train = X[:split],y[:split]\n",
        "# X_val,y_val = X[split:],y[split:]"
      ],
      "execution_count": null,
      "outputs": []
    },
    {
      "cell_type": "code",
      "metadata": {
        "id": "tFs72y6DPj98"
      },
      "source": [
        "X_test = scipy.sparse.lil_matrix((len(test_dicts), nUsers + nPlaces + nPrices))\n",
        "\n",
        "for i in range(len(test_dicts)):\n",
        "  user_id = test_dicts[i]['gPlusUserId']\n",
        "\n",
        "  place_id = test_dicts[i]['gPlusPlaceId']\n",
        "\n",
        "  if(user_id in user_di and  place_id in place_di):\n",
        "\n",
        "    user = user_di[user_id]\n",
        "    item = place_di[place_id]\n",
        "\n",
        "    price = price_di[places_meta_data[all_dicts[i]['gPlusPlaceId']]['price']]\n",
        "\n",
        "    X_test[i,user] = 1 # One-hot encoding of user\n",
        "    X_test[i,nUsers + item] = 1 # One-hot encoding of item\n",
        "    X_test[i,nUsers + nPlaces+price] = 1\n",
        "\n",
        "  elif(user_id in user_di):\n",
        "    user = user_di[user_id]\n",
        "    X_test[i,user] = 1 # One-hot encoding of user\n",
        "  elif(place_id in place_di):\n",
        "    item = place_di[place_id]\n",
        "    price = price_di[places_meta_data[all_dicts[i]['gPlusPlaceId']]['price']]\n",
        "    X_test[i,nUsers + item] = 1 # One-hot encoding of item\n",
        "    X_test[i,nUsers + nPlaces+price] = 1\n",
        "\n",
        "y_test = numpy.array([d['rating'] for d in test_dicts])"
      ],
      "execution_count": null,
      "outputs": []
    },
    {
      "cell_type": "code",
      "metadata": {
        "id": "mJ9f4HMsPR1H"
      },
      "source": [
        "fm = als.FMRegression(n_iter=500, init_stdev=0.1, rank=3, l2_reg_w=20, l2_reg_V=50)\n",
        "\n",
        "fm.fit(X_train, y_train)"
      ],
      "execution_count": null,
      "outputs": []
    },
    {
      "cell_type": "code",
      "metadata": {
        "colab": {
          "base_uri": "https://localhost:8080/"
        },
        "id": "DHBFj9uMRxVl",
        "outputId": "05939a12-71f1-498e-b91b-761e48d6ee56"
      },
      "source": [
        "y_pred_train = fm.predict(X_train)\n",
        "MSE(y_pred_train, y_train)\n",
        "\n",
        "y_pred_val = fm.predict(X_val)\n",
        "MSE(y_pred_val, y_val)\n",
        "\n",
        "y_test_pred = fm.predict(X_test)"
      ],
      "execution_count": null,
      "outputs": [
        {
          "output_type": "execute_result",
          "data": {
            "text/plain": [
              "1.1778189713842855"
            ]
          },
          "metadata": {},
          "execution_count": 26
        }
      ]
    },
    {
      "cell_type": "code",
      "metadata": {
        "id": "FSAUY_N_B6Cc"
      },
      "source": [
        "sorted_review_count = sorted(review_count_per_user,reverse=True)"
      ],
      "execution_count": null,
      "outputs": []
    },
    {
      "cell_type": "code",
      "metadata": {
        "colab": {
          "base_uri": "https://localhost:8080/"
        },
        "id": "8KYDEwQsCJM2",
        "outputId": "afc8d590-78ef-4b28-f8ad-7539ce171c48"
      },
      "source": [
        "sum(sorted_review_count[:25000])"
      ],
      "execution_count": null,
      "outputs": [
        {
          "output_type": "execute_result",
          "data": {
            "text/plain": [
              "216467"
            ]
          },
          "metadata": {},
          "execution_count": 28
        }
      ]
    },
    {
      "cell_type": "code",
      "metadata": {
        "colab": {
          "base_uri": "https://localhost:8080/"
        },
        "id": "_XY4yMYwDA3-",
        "outputId": "4f554aef-a184-49d6-f513-de98d87fb63a"
      },
      "source": [
        "# for i in sorted_review_count:\n",
        "#   if i == 2:\n",
        "#     break\n",
        "print(sorted_review_count.index(1))"
      ],
      "execution_count": null,
      "outputs": [
        {
          "output_type": "stream",
          "name": "stdout",
          "text": [
            "81990\n"
          ]
        }
      ]
    },
    {
      "cell_type": "code",
      "metadata": {
        "colab": {
          "base_uri": "https://localhost:8080/"
        },
        "id": "BaeufIfVDTwc",
        "outputId": "523aa81c-0a88-40f6-8819-ed15e167ed34"
      },
      "source": [
        "sum(sorted_review_count[:40000]) + 80000+ 40000"
      ],
      "execution_count": null,
      "outputs": [
        {
          "output_type": "execute_result",
          "data": {
            "text/plain": [
              "381686"
            ]
          },
          "metadata": {},
          "execution_count": 34
        }
      ]
    },
    {
      "cell_type": "code",
      "metadata": {
        "colab": {
          "base_uri": "https://localhost:8080/"
        },
        "id": "pZXkhhQ-GPXS",
        "outputId": "ad103a52-523d-4c04-8c30-a52814b6b066"
      },
      "source": [
        "#Sampling scheme\n",
        "\n",
        "users_with_non1_rcount = [user for user in placesPerUser if len(placesPerUser[user]) >=2 ]\n",
        "users_with_1_rcount = [user for user in placesPerUser if len(placesPerUser[user]) ==1 ]\n",
        "users_with_1_rcount_subset = [random.choice(users_with_1_rcount) for _ in range(40000)]\n",
        "users_with_non1_rcount.extend(users_with_1_rcount_subset)\n",
        "user_list_sampled = set(users_with_non1_rcount)\n",
        "sampled_train_dict = [d for d in train_dicts if d['gPlusUserId'] in user_list_sampled]\n",
        "\n",
        "print(len(user_list_sampled))\n",
        "print(len(sampled_train_dict))"
      ],
      "execution_count": null,
      "outputs": [
        {
          "output_type": "stream",
          "name": "stdout",
          "text": [
            "119022\n",
            "383133\n"
          ]
        }
      ]
    },
    {
      "cell_type": "code",
      "metadata": {
        "id": "vcVRAVx4ICre"
      },
      "source": [
        "# with open(\"Sampled_by_review_count_train.pkl\",\"wb\") as fp:\n",
        "#      pickle.dump(sampled_train_dict,fp)"
      ],
      "execution_count": null,
      "outputs": []
    },
    {
      "cell_type": "code",
      "metadata": {
        "id": "abV7EWItI89Y"
      },
      "source": [
        "# train_dicts = sampled_train_dict"
      ],
      "execution_count": null,
      "outputs": []
    },
    {
      "cell_type": "code",
      "metadata": {
        "id": "U4_JHPwX_iXS"
      },
      "source": [
        "time_li = [d['unixReviewTime'] for d in train_dicts]\n",
        "max_time = max(time_li)\n",
        "\n",
        "users = set([x['gPlusUserId'] for x in train_dicts])\n",
        "nUsers = len(users)\n",
        "places = set([x['gPlusPlaceId'] for x in train_dicts])\n",
        "nPlaces = len(places)\n",
        "\n",
        "prices = set([x['price'] for x in filtered_places])\n",
        "nPrices = len(prices)\n",
        "\n",
        "user_di = {user:i for i,user in enumerate(list(users))}\n",
        "place_di = {place:i for i,place in enumerate(list(places))}\n",
        "price_di = {price:i for i,price in enumerate(list(prices))}"
      ],
      "execution_count": null,
      "outputs": []
    },
    {
      "cell_type": "code",
      "metadata": {
        "id": "Jzvcwyem3ijB"
      },
      "source": [
        "mod_train_dicts = []\n",
        "allRatings = []\n",
        "ratingDict = {}\n",
        "userRatings = defaultdict(list) #all ratings given by user u\n",
        "placeRatings = defaultdict(list)\n",
        "usersPerPlace = defaultdict(set) # Maps an item to the users who rated it\n",
        "placesPerUser = defaultdict(set) # Maps a user to the items that they rated\n",
        "\n",
        "for d in train_dicts:\n",
        "  user = d['gPlusUserId']\n",
        "  place = d['gPlusPlaceId']\n",
        "  usersPerPlace[place].add(user)\n",
        "  placesPerUser[user].add(place)\n",
        "  r = int(d['rating'])\n",
        "  d['rating'] = r\n",
        "  ratingDict[(user,place)] = r\n",
        "  d['parsed_time'] = d['unixReviewTime']/max_time\n",
        "  # for key in recipe_meta_data[place]:\n",
        "  #   d[key] = recipe_meta_data[place][key]\n",
        "  allRatings.append(r)\n",
        "  userRatings[user].append((r,d['parsed_time']))\n",
        "  placeRatings[place].append((r,d['parsed_time']))\n",
        "  mod_train_dicts.append(d)\n",
        "\n",
        "globalAverage = sum(allRatings) / len(allRatings)\n",
        "userAverage = {}\n",
        "for u in userRatings:\n",
        "  userAverage[u] = sum([t[0] for t in userRatings[u]]) / len(userRatings[u])"
      ],
      "execution_count": null,
      "outputs": []
    },
    {
      "cell_type": "code",
      "metadata": {
        "colab": {
          "base_uri": "https://localhost:8080/"
        },
        "id": "gx5KVwz6JE4O",
        "outputId": "6f18bab6-cc62-499a-f2a2-c04f5301cd1f"
      },
      "source": [
        "review_count_per_user = [len(placesPerUser[user]) for user in placesPerUser]\n",
        "avg_review_count = sum(review_count_per_user)/len(review_count_per_user)\n",
        "avg_review_count"
      ],
      "execution_count": null,
      "outputs": [
        {
          "output_type": "execute_result",
          "data": {
            "text/plain": [
              "3.219009930937138"
            ]
          },
          "metadata": {},
          "execution_count": 15
        }
      ]
    },
    {
      "cell_type": "code",
      "metadata": {
        "id": "aJLO7oKiMqaY"
      },
      "source": [
        "y_val_glob_avg = [globalAverage]*len(y_val)"
      ],
      "execution_count": null,
      "outputs": []
    },
    {
      "cell_type": "code",
      "metadata": {
        "colab": {
          "base_uri": "https://localhost:8080/"
        },
        "id": "o3j99r1mM7PA",
        "outputId": "d440bdaf-959c-4e4e-844c-1dd86b8f28f1"
      },
      "source": [
        "MSE(y_val,y_val_glob_avg)"
      ],
      "execution_count": null,
      "outputs": [
        {
          "output_type": "execute_result",
          "data": {
            "text/plain": [
              "1.46733254963012"
            ]
          },
          "metadata": {},
          "execution_count": 29
        }
      ]
    },
    {
      "cell_type": "markdown",
      "metadata": {
        "id": "DAMulR9wKebE"
      },
      "source": [
        "Vanilla FM"
      ]
    },
    {
      "cell_type": "code",
      "metadata": {
        "id": "5vBGXR1lKu8w"
      },
      "source": [
        "X_train = scipy.sparse.lil_matrix((len(train_dicts), nUsers + nPlaces))\n",
        "\n",
        "for i in range(len(train_dicts)):\n",
        "    user = user_di[train_dicts[i]['gPlusUserId']]\n",
        "    item = place_di[train_dicts[i]['gPlusPlaceId']]\n",
        "    #price = price_di[places_meta_data[train_dicts[i]['gPlusPlaceId']]['price']]\n",
        "    X_train[i,user] = 1 # One-hot encoding of user\n",
        "    X_train[i,nUsers + item] = 1 # One-hot encoding of item\n",
        "    #X_train[i,nUsers + nPlaces+price] = 1\n",
        "\n",
        "y_train = numpy.array([d['rating'] for d in train_dicts])\n",
        "\n",
        "# split = int(0.8*len(all_dicts))\n",
        "# X_train,y_train = X[:split],y[:split]\n",
        "# X_val,y_val = X[split:],y[split:]"
      ],
      "execution_count": null,
      "outputs": []
    },
    {
      "cell_type": "code",
      "metadata": {
        "id": "96ibVcocLnb1"
      },
      "source": [
        "X_val = scipy.sparse.lil_matrix((len(val_dicts), nUsers + nPlaces))\n",
        "\n",
        "for i in range(len(val_dicts)):\n",
        "  user_id = val_dicts[i]['gPlusUserId']\n",
        "\n",
        "  place_id = val_dicts[i]['gPlusPlaceId']\n",
        "\n",
        "  if(user_id in user_di and  place_id in place_di):\n",
        "\n",
        "    user = user_di[user_id]\n",
        "    item = place_di[place_id]\n",
        "\n",
        "    #price = price_di[places_meta_data[all_dicts[i]['gPlusPlaceId']]['price']]\n",
        "\n",
        "    X_val[i,user] = 1 # One-hot encoding of user\n",
        "    X_val[i,nUsers + item] = 1 # One-hot encoding of item\n",
        "    #X_val[i,nUsers + nPlaces+price] = 1\n",
        "\n",
        "  elif(user_id in user_di):\n",
        "    user = user_di[user_id]\n",
        "    X_val[i,user] = 1 # One-hot encoding of user\n",
        "  elif(place_id in place_di):\n",
        "    item = place_di[place_id]\n",
        "    #price = price_di[places_meta_data[all_dicts[i]['gPlusPlaceId']]['price']]\n",
        "    X_val[i,nUsers + item] = 1 # One-hot encoding of item\n",
        "    #X_val[i,nUsers + nPlaces+price] = 1\n",
        "\n",
        "y_val = numpy.array([d['rating'] for d in val_dicts])"
      ],
      "execution_count": null,
      "outputs": []
    },
    {
      "cell_type": "code",
      "metadata": {
        "id": "m_15MSfKKvsz"
      },
      "source": [
        "X_test = scipy.sparse.lil_matrix((len(test_dicts), nUsers + nPlaces))\n",
        "\n",
        "for i in range(len(test_dicts)):\n",
        "  user_id = test_dicts[i]['gPlusUserId']\n",
        "\n",
        "  place_id = test_dicts[i]['gPlusPlaceId']\n",
        "\n",
        "  if(user_id in user_di and  place_id in place_di):\n",
        "\n",
        "    user = user_di[user_id]\n",
        "    item = place_di[place_id]\n",
        "\n",
        "    #price = price_di[places_meta_data[all_dicts[i]['gPlusPlaceId']]['price']]\n",
        "\n",
        "    X_test[i,user] = 1 # One-hot encoding of user\n",
        "    X_test[i,nUsers + item] = 1 # One-hot encoding of item\n",
        "    #X_test[i,nUsers + nPlaces+price] = 1\n",
        "\n",
        "  elif(user_id in user_di):\n",
        "    user = user_di[user_id]\n",
        "    X_test[i,user] = 1 # One-hot encoding of user\n",
        "  elif(place_id in place_di):\n",
        "    item = place_di[place_id]\n",
        "    #price = price_di[places_meta_data[all_dicts[i]['gPlusPlaceId']]['price']]\n",
        "    X_test[i,nUsers + item] = 1 # One-hot encoding of item\n",
        "    #X_test[i,nUsers + nPlaces+price] = 1\n",
        "\n",
        "y_test = numpy.array([d['rating'] for d in test_dicts])"
      ],
      "execution_count": null,
      "outputs": []
    },
    {
      "cell_type": "code",
      "metadata": {
        "colab": {
          "base_uri": "https://localhost:8080/"
        },
        "id": "wfevMX-EK0nk",
        "outputId": "2540bf58-50c3-408b-a057-3566301f86d0"
      },
      "source": [
        "fm = als.FMRegression(init_stdev=0.1, rank=0, l2_reg_w=20)\n",
        "\n",
        "fm.fit(X_train, y_train)"
      ],
      "execution_count": null,
      "outputs": [
        {
          "output_type": "execute_result",
          "data": {
            "text/plain": [
              "FMRegression(l2_reg_w=20, rank=0)"
            ]
          },
          "metadata": {},
          "execution_count": 18
        }
      ]
    },
    {
      "cell_type": "code",
      "metadata": {
        "colab": {
          "base_uri": "https://localhost:8080/"
        },
        "id": "fJLIFnuPK4Ed",
        "outputId": "aea61f72-2556-4739-f7d8-2ea1ec23e218"
      },
      "source": [
        "y_pred_train = fm.predict(X_train)\n",
        "print(MSE(y_pred_train, y_train))\n",
        "\n",
        "y_pred_val = fm.predict(X_val)\n",
        "print(MSE(y_pred_val, y_val))\n",
        "\n",
        "y_test_pred = fm.predict(X_test)"
      ],
      "execution_count": null,
      "outputs": [
        {
          "output_type": "stream",
          "name": "stdout",
          "text": [
            "1.0264648031272718\n",
            "1.4136195046086115\n"
          ]
        }
      ]
    },
    {
      "cell_type": "markdown",
      "metadata": {
        "id": "Gz55mHssdZqM"
      },
      "source": [
        "FastFM with state feature"
      ]
    },
    {
      "cell_type": "code",
      "metadata": {
        "id": "AeU-22xQeMNO"
      },
      "source": [
        "state_list = [\"AL\",\"AK\",\"AZ\",\"AR\",\"CA\",\"CO\",\"CT\",\"DE\",\"FL\",\"GA\",\"HI\",\"ID\",\"IL\",\"IN\",\"IA\",\"KS\",\"KY\",\"LA\",\"ME\",\"MD\",\"MA\",\"MI\",\"MN\",\"MS\",\"MO\",\"MT\",\"NE\",\"NV\",\"NH\",\"NJ\",\"NM\",\"NY\",\"NC\",\"ND\",\"OH\",\"OK\",\"OR\",\"PA\",\"RI\",\"SC\",\"SD\",\"TN\",\"TX\",\"UT\",\"VT\",\"VA\",\"WA\",\"WV\",\"WI\",\"WY\",\"\"]\n",
        "\n",
        "state_coords = [(32.806671,-86.79113),\t(61.370716,-152.404419),\t(33.729759,-111.431221),\t(34.969704,-92.373123),\t(36.116203,-119.681564),\t(39.059811,-105.311104),\t(41.597782,-72.755371),\t(39.318523,-75.507141),\t(27.766279,-81.686783),\t(33.040619,-83.643074),\t(21.094318,-157.498337),\t(44.240459,-114.478828),\t(40.349457,-88.986137),\t(39.849426,-86.258278),\t(42.011539,-93.210526),\t(38.5266,-96.726486),\t(37.66814,-84.670067),\t(31.169546,-91.867805),\t(44.693947,-69.381927),\t(39.063946,-76.802101),\t(42.230171,-71.530106),\t(43.326618,-84.536095),\t(45.694454,-93.900192),\t(32.741646,-89.678696),\t(38.456085,-92.288368),\t(46.921925,-110.454353),\t(41.12537,-98.268082),\t(38.313515,-117.055374),\t(43.452492,-71.563896),\t(40.298904,-74.521011),\t(34.840515,-106.248482),\t(42.165726,-74.948051),\t(35.630066,-79.806419),\t(47.528912,-99.784012),\t(40.388783,-82.764915),\t(35.565342,-96.928917),\t(44.572021,-122.070938),\t(40.590752,-77.209755),\t(41.680893,-71.51178),\t(33.856892,-80.945007),\t(44.299782,-99.438828),\t(35.747845,-86.692345),\t(31.054487,-97.563461),\t(40.150032,-111.862434),\t(44.045876,-72.710686),\t(37.769337,-78.169968),\t(47.400902,-121.490494),\t(38.491226,-80.954453),\t(44.268543,-89.616508),\t(42.755966,-107.30249), (0.0,0.0)]"
      ],
      "execution_count": null,
      "outputs": []
    },
    {
      "cell_type": "code",
      "metadata": {
        "id": "0QjvdYJ4dZDw"
      },
      "source": [
        "nStates = 51\n",
        "X_train = scipy.sparse.lil_matrix((len(train_dicts), nUsers + nPlaces+nStates))\n",
        "\n",
        "for i in range(len(train_dicts)):\n",
        "    user = user_di[train_dicts[i]['gPlusUserId']]\n",
        "    item = place_di[train_dicts[i]['gPlusPlaceId']]\n",
        "    state = state_list.index(train_dicts[i]['state'])\n",
        "    #price = price_di[places_meta_data[train_dicts[i]['gPlusPlaceId']]['price']]\n",
        "    X_train[i,user] = 1 # One-hot encoding of user\n",
        "    X_train[i,nUsers + item] = 1 # One-hot encoding of item\n",
        "    X_train[i,nUsers + nPlaces + state] = 1\n",
        "    #X_train[i,nUsers + nPlaces+price] = 1\n",
        "\n",
        "y_train = numpy.array([d['rating'] for d in train_dicts])\n",
        "\n",
        "# split = int(0.8*len(all_dicts))\n",
        "# X_train,y_train = X[:split],y[:split]\n",
        "# X_val,y_val = X[split:],y[split:]"
      ],
      "execution_count": null,
      "outputs": []
    },
    {
      "cell_type": "code",
      "metadata": {
        "id": "jNRZjMQGNbMd"
      },
      "source": [
        "# temp = X_train[0].todense()"
      ],
      "execution_count": null,
      "outputs": []
    },
    {
      "cell_type": "code",
      "metadata": {
        "id": "0AS868dvdkRW"
      },
      "source": [
        "X_val = scipy.sparse.lil_matrix((len(val_dicts), nUsers + nPlaces+nStates))\n",
        "\n",
        "for i in range(len(val_dicts)):\n",
        "  user_id = val_dicts[i]['gPlusUserId']\n",
        "\n",
        "  place_id = val_dicts[i]['gPlusPlaceId']\n",
        "  state = state_list.index(val_dicts[i]['state'])\n",
        "  X_val[i,nUsers + nPlaces + state] = 1\n",
        "  if(user_id in user_di and  place_id in place_di):\n",
        "\n",
        "    user = user_di[user_id]\n",
        "    item = place_di[place_id]\n",
        "    state = state_list.index(train_dicts[i]['state'])\n",
        "    #price = price_di[places_meta_data[all_dicts[i]['gPlusPlaceId']]['price']]\n",
        "\n",
        "    X_val[i,user] = 1 # One-hot encoding of user\n",
        "    X_val[i,nUsers + item] = 1 # One-hot encoding of item\n",
        "    #X_train[i,nUsers + nPlaces + state] = 1\n",
        "    #X_val[i,nUsers + nPlaces+price] = 1\n",
        "\n",
        "  elif(user_id in user_di):\n",
        "    user = user_di[user_id]\n",
        "    X_val[i,user] = 1 # One-hot encoding of user\n",
        "  elif(place_id in place_di):\n",
        "    item = place_di[place_id]\n",
        "    #price = price_di[places_meta_data[all_dicts[i]['gPlusPlaceId']]['price']]\n",
        "    X_val[i,nUsers + item] = 1 # One-hot encoding of item\n",
        "    #X_val[i,nUsers + nPlaces+price] = 1\n",
        "\n",
        "y_val = numpy.array([d['rating'] for d in val_dicts])"
      ],
      "execution_count": null,
      "outputs": []
    },
    {
      "cell_type": "code",
      "metadata": {
        "id": "TvcORkRJdn6E"
      },
      "source": [
        "X_test = scipy.sparse.lil_matrix((len(test_dicts), nUsers + nPlaces+nStates))\n",
        "\n",
        "for i in range(len(test_dicts)):\n",
        "  user_id = test_dicts[i]['gPlusUserId']\n",
        "\n",
        "  place_id = test_dicts[i]['gPlusPlaceId']\n",
        "  state = state_list.index(test_dicts[i]['state'])\n",
        "  X_test[i,nUsers + nPlaces + state] = 1\n",
        "  if(user_id in user_di and  place_id in place_di):\n",
        "\n",
        "    user = user_di[user_id]\n",
        "    item = place_di[place_id]\n",
        "\n",
        "    #price = price_di[places_meta_data[all_dicts[i]['gPlusPlaceId']]['price']]\n",
        "\n",
        "    X_test[i,user] = 1 # One-hot encoding of user\n",
        "    X_test[i,nUsers + item] = 1 # One-hot encoding of item\n",
        "    #X_test[i,nUsers + nPlaces+price] = 1\n",
        "\n",
        "  elif(user_id in user_di):\n",
        "    user = user_di[user_id]\n",
        "    X_test[i,user] = 1 # One-hot encoding of user\n",
        "  elif(place_id in place_di):\n",
        "    item = place_di[place_id]\n",
        "    #price = price_di[places_meta_data[all_dicts[i]['gPlusPlaceId']]['price']]\n",
        "    X_test[i,nUsers + item] = 1 # One-hot encoding of item\n",
        "    #X_test[i,nUsers + nPlaces+price] = 1\n",
        "\n",
        "y_test = numpy.array([d['rating'] for d in test_dicts])"
      ],
      "execution_count": null,
      "outputs": []
    },
    {
      "cell_type": "code",
      "metadata": {
        "id": "PTIzYUk6dq3a",
        "colab": {
          "base_uri": "https://localhost:8080/"
        },
        "outputId": "ef732af2-5fd3-4c96-ea89-e6d371661c82"
      },
      "source": [
        "fm1 = als.FMRegression(init_stdev=0.1, rank=0, l2_reg_w=20)\n",
        "\n",
        "fm1.fit(X_train, y_train)"
      ],
      "execution_count": null,
      "outputs": [
        {
          "output_type": "execute_result",
          "data": {
            "text/plain": [
              "FMRegression(l2_reg_w=20, rank=0)"
            ]
          },
          "metadata": {},
          "execution_count": 26
        }
      ]
    },
    {
      "cell_type": "code",
      "metadata": {
        "id": "uwd9Gix6dtVl",
        "colab": {
          "base_uri": "https://localhost:8080/"
        },
        "outputId": "c076d6a6-df8b-482d-cc74-d095108d550b"
      },
      "source": [
        "y_pred_train = fm1.predict(X_train)\n",
        "print(MSE(y_pred_train, y_train))\n",
        "\n",
        "y_pred_val = fm1.predict(X_val)\n",
        "print(MSE(y_pred_val, y_val))\n",
        "\n",
        "y_test_pred = fm1.predict(X_test)"
      ],
      "execution_count": null,
      "outputs": [
        {
          "output_type": "stream",
          "name": "stdout",
          "text": [
            "1.025099194760506\n",
            "1.4119281713148428\n"
          ]
        }
      ]
    },
    {
      "cell_type": "markdown",
      "metadata": {
        "id": "Na_6IWDOdWGf"
      },
      "source": [
        "FISM with just places"
      ]
    },
    {
      "cell_type": "code",
      "metadata": {
        "id": "ac04VMaD8QtK"
      },
      "source": [
        "X_train_fism = scipy.sparse.lil_matrix((len(train_dicts), nPlaces*2))\n",
        "\n",
        "for i in range(len(train_dicts)):\n",
        "    #user = user_di[train_dicts[i]['gPlusUserId']]\n",
        "    user_id = train_dicts[i]['gPlusUserId']\n",
        "    item = place_di[train_dicts[i]['gPlusPlaceId']]\n",
        "    #price = price_di[places_meta_data[all_dicts[i]['gPlusPlaceId']]['price']]\n",
        "    X_train_fism[i,item] = 1 # One-hot encoding of user\n",
        "    for item_id in placesPerUser[user_id]:\n",
        "      item_query = place_di[item_id]\n",
        "      if item != item_query:\n",
        "        X_train_fism[i,nPlaces + item_query] = 1/(len(placesPerUser[user_id]) - 1) # One-hot encoding of item\n",
        "\n",
        "    #X_train_fism[i,nUsers + nPlaces+price] = 1\n",
        "\n",
        "y_train_fism = numpy.array([d['rating'] for d in train_dicts])"
      ],
      "execution_count": null,
      "outputs": []
    },
    {
      "cell_type": "code",
      "metadata": {
        "id": "QXDR4KQHUbWd"
      },
      "source": [
        "X_val_fism = scipy.sparse.lil_matrix((len(val_dicts), nPlaces*2))\n",
        "\n",
        "for i in range(len(val_dicts)):\n",
        "  user_id = val_dicts[i]['gPlusUserId']\n",
        "\n",
        "  place_id = val_dicts[i]['gPlusPlaceId']\n",
        "\n",
        "  if(user_id in user_di and  place_id in place_di):\n",
        "    user_id = val_dicts[i]['gPlusUserId']\n",
        "    item = place_di[val_dicts[i]['gPlusPlaceId']]\n",
        "    #price = price_di[places_meta_data[all_dicts[i]['gPlusPlaceId']]['price']]\n",
        "    X_val_fism[i,item] = 1 # One-hot encoding of user\n",
        "    for item_id in placesPerUser[user_id]:\n",
        "      item_query = place_di[item_id]\n",
        "      if item != item_query:\n",
        "        X_val_fism[i,nPlaces + item_query] = 1/(len(placesPerUser[user_id]) - 1)\n",
        "\n",
        "    #price = price_di[places_meta_data[all_dicts[i]['gPlusPlaceId']]['price']]\n",
        "    #X_val_fism[i,nUsers + nPlaces+price] = 1\n",
        "\n",
        "  elif(place_id in place_di):\n",
        "    item = place_di[place_id]\n",
        "    #price = price_di[places_meta_data[all_dicts[i]['gPlusPlaceId']]['price']]\n",
        "    X_val_fism[i,item] = 1 # One-hot encoding of item\n",
        "    #X_val_fism[i,nUsers + nPlaces+price] = 1\n",
        "\n",
        "y_val_fism = numpy.array([d['rating'] for d in val_dicts])"
      ],
      "execution_count": null,
      "outputs": []
    },
    {
      "cell_type": "code",
      "metadata": {
        "id": "pXJQwMHhZ06c"
      },
      "source": [
        "X_test_fism = scipy.sparse.lil_matrix((len(test_dicts), nPlaces*2))\n",
        "\n",
        "for i in range(len(test_dicts)):\n",
        "  user_id = test_dicts[i]['gPlusUserId']\n",
        "\n",
        "  place_id = test_dicts[i]['gPlusPlaceId']\n",
        "\n",
        "  if(user_id in user_di and  place_id in place_di):\n",
        "    user_id = test_dicts[i]['gPlusUserId']\n",
        "    item = place_di[test_dicts[i]['gPlusPlaceId']]\n",
        "    #price = price_di[places_meta_data[all_dicts[i]['gPlusPlaceId']]['price']]\n",
        "    X_test_fism[i,item] = 1 # One-hot encoding of user\n",
        "    for item_id in placesPerUser[user_id]:\n",
        "      item_query = place_di[item_id]\n",
        "      if item != item_query:\n",
        "        X_test_fism[i,nPlaces + item_query] = 1/(len(placesPerUser[user_id]) - 1)\n",
        "\n",
        "    #price = price_di[places_meta_data[all_dicts[i]['gPlusPlaceId']]['price']]\n",
        "    #X_val_fism[i,nUsers + nPlaces+price] = 1\n",
        "\n",
        "  elif(place_id in place_di):\n",
        "    item = place_di[place_id]\n",
        "    #price = price_di[places_meta_data[all_dicts[i]['gPlusPlaceId']]['price']]\n",
        "    X_test_fism[i,item] = 1 # One-hot encoding of item\n",
        "    #X_val_fism[i,nUsers + nPlaces+price] = 1\n",
        "\n",
        "y_test_fism = numpy.array([d['rating'] for d in test_dicts])"
      ],
      "execution_count": null,
      "outputs": []
    },
    {
      "cell_type": "code",
      "metadata": {
        "colab": {
          "base_uri": "https://localhost:8080/"
        },
        "id": "EVxvNRWwaN-W",
        "outputId": "b0207450-2372-4cdf-b337-ff8a6b52f235"
      },
      "source": [
        "fm_fism = als.FMRegression(init_stdev=0.1, rank=5, l2_reg_w=20, l2_reg_V=10)\n",
        "\n",
        "fm_fism.fit(X_train_fism, y_train_fism)\n",
        "\n",
        "y_pred_train = fm_fism.predict(X_train_fism)\n",
        "print(MSE(y_pred_train, y_train_fism))\n",
        "\n",
        "y_pred_val = fm_fism.predict(X_val_fism)\n",
        "print(MSE(y_pred_val, y_val_fism))\n",
        "\n",
        "y_test_pred = fm_fism.predict(X_test_fism)"
      ],
      "execution_count": null,
      "outputs": [
        {
          "output_type": "stream",
          "name": "stdout",
          "text": [
            "1.1200668548540595\n",
            "1.4124207094020438\n"
          ]
        }
      ]
    },
    {
      "cell_type": "markdown",
      "metadata": {
        "id": "YdUBcn2zXv74"
      },
      "source": [
        "FISm with state co-ords"
      ]
    },
    {
      "cell_type": "code",
      "metadata": {
        "id": "W__suW_GUuP7"
      },
      "source": [
        "\n",
        "X_train = scipy.sparse.lil_matrix((len(train_dicts), nUsers + nPlaces+2))\n",
        "\n",
        "for i in range(len(train_dicts)):\n",
        "    user = user_di[train_dicts[i]['gPlusUserId']]\n",
        "    item = place_di[train_dicts[i]['gPlusPlaceId']]\n",
        "    state = state_list.index(train_dicts[i]['state'])\n",
        "    cord = state_coords[state]\n",
        "    #price = price_di[places_meta_data[train_dicts[i]['gPlusPlaceId']]['price']]\n",
        "    X_train[i,user] = 1 # One-hot encoding of user\n",
        "    X_train[i,nUsers + item] = 1 # One-hot encoding of item\n",
        "    X_train[i,nUsers + nPlaces + 0] = cord[0]\n",
        "    X_train[i,nUsers + nPlaces + 1] = cord[1]\n",
        "    #X_train[i,nUsers + nPlaces+price] = 1\n",
        "\n",
        "y_train = numpy.array([d['rating'] for d in train_dicts])"
      ],
      "execution_count": null,
      "outputs": []
    },
    {
      "cell_type": "code",
      "metadata": {
        "id": "XbXJEZBoX0W8"
      },
      "source": [
        "X_val = scipy.sparse.lil_matrix((len(val_dicts), nUsers + nPlaces+2))\n",
        "\n",
        "for i in range(len(val_dicts)):\n",
        "  user_id = val_dicts[i]['gPlusUserId']\n",
        "\n",
        "  place_id = val_dicts[i]['gPlusPlaceId']\n",
        "  state = state_list.index(val_dicts[i]['state'])\n",
        "  cord = state_coords[state]\n",
        "  X_val[i,nUsers + nPlaces + 0] = cord[0]\n",
        "  X_val[i,nUsers + nPlaces + 1] = cord[1]\n",
        "  if(user_id in user_di and  place_id in place_di):\n",
        "\n",
        "    user = user_di[user_id]\n",
        "    item = place_di[place_id]\n",
        "    state = state_list.index(train_dicts[i]['state'])\n",
        "    #price = price_di[places_meta_data[all_dicts[i]['gPlusPlaceId']]['price']]\n",
        "\n",
        "    X_val[i,user] = 1 # One-hot encoding of user\n",
        "    X_val[i,nUsers + item] = 1 # One-hot encoding of item\n",
        "    #X_train[i,nUsers + nPlaces + state] = 1\n",
        "    #X_val[i,nUsers + nPlaces+price] = 1\n",
        "\n",
        "  elif(user_id in user_di):\n",
        "    user = user_di[user_id]\n",
        "    X_val[i,user] = 1 # One-hot encoding of user\n",
        "  elif(place_id in place_di):\n",
        "    item = place_di[place_id]\n",
        "    #price = price_di[places_meta_data[all_dicts[i]['gPlusPlaceId']]['price']]\n",
        "    X_val[i,nUsers + item] = 1 # One-hot encoding of item\n",
        "    #X_val[i,nUsers + nPlaces+price] = 1\n",
        "\n",
        "y_val = numpy.array([d['rating'] for d in val_dicts])"
      ],
      "execution_count": null,
      "outputs": []
    },
    {
      "cell_type": "code",
      "metadata": {
        "id": "0Ns-rwf7X3gj"
      },
      "source": [
        "X_test = scipy.sparse.lil_matrix((len(test_dicts), nUsers + nPlaces+2))\n",
        "\n",
        "for i in range(len(test_dicts)):\n",
        "  user_id = test_dicts[i]['gPlusUserId']\n",
        "\n",
        "  place_id = test_dicts[i]['gPlusPlaceId']\n",
        "  state = state_list.index(test_dicts[i]['state'])\n",
        "  cord = state_coords[state]\n",
        "  X_test[i,nUsers + nPlaces + 0] = cord[0]\n",
        "  X_test[i,nUsers + nPlaces + 1] = cord[1]\n",
        "  if(user_id in user_di and  place_id in place_di):\n",
        "\n",
        "    user = user_di[user_id]\n",
        "    item = place_di[place_id]\n",
        "\n",
        "    #price = price_di[places_meta_data[all_dicts[i]['gPlusPlaceId']]['price']]\n",
        "\n",
        "    X_test[i,user] = 1 # One-hot encoding of user\n",
        "    X_test[i,nUsers + item] = 1 # One-hot encoding of item\n",
        "    #X_test[i,nUsers + nPlaces+price] = 1\n",
        "\n",
        "  elif(user_id in user_di):\n",
        "    user = user_di[user_id]\n",
        "    X_test[i,user] = 1 # One-hot encoding of user\n",
        "  elif(place_id in place_di):\n",
        "    item = place_di[place_id]\n",
        "    #price = price_di[places_meta_data[all_dicts[i]['gPlusPlaceId']]['price']]\n",
        "    X_test[i,nUsers + item] = 1 # One-hot encoding of item\n",
        "    #X_test[i,nUsers + nPlaces+price] = 1\n",
        "\n",
        "y_test = numpy.array([d['rating'] for d in test_dicts])"
      ],
      "execution_count": null,
      "outputs": []
    },
    {
      "cell_type": "code",
      "metadata": {
        "colab": {
          "base_uri": "https://localhost:8080/"
        },
        "id": "UOhlp3b-X6cl",
        "outputId": "f213180b-2691-412b-a27c-125a3b0885c1"
      },
      "source": [
        "fm2 = als.FMRegression(init_stdev=0.1, rank=0, l2_reg_w=20)\n",
        "\n",
        "fm2.fit(X_train, y_train)\n",
        "\n",
        "y_pred_train = fm2.predict(X_train)\n",
        "print(MSE(y_pred_train, y_train))\n",
        "\n",
        "y_pred_val = fm2.predict(X_val)\n",
        "print(MSE(y_pred_val, y_val))\n",
        "\n",
        "y_test_pred = fm2.predict(X_test)"
      ],
      "execution_count": null,
      "outputs": [
        {
          "output_type": "stream",
          "name": "stdout",
          "text": [
            "1.0282877218789226\n",
            "1.4168570405719452\n"
          ]
        }
      ]
    },
    {
      "cell_type": "markdown",
      "metadata": {
        "id": "9MIiFy-ErzzU"
      },
      "source": [
        "#Fast FM with popularity of place and state"
      ]
    },
    {
      "cell_type": "code",
      "metadata": {
        "id": "_3LukGCksX2M"
      },
      "source": [
        "placesPerState = defaultdict(int)\n",
        "\n",
        "for d in train_dicts:\n",
        "  placesPerState[d['state']] += 1\n",
        "\n",
        "placesPerState[\"\"] = 0"
      ],
      "execution_count": null,
      "outputs": []
    },
    {
      "cell_type": "code",
      "metadata": {
        "id": "_kymMPmlr9sN"
      },
      "source": [
        "X_train = scipy.sparse.lil_matrix((len(train_dicts), nUsers + nPlaces+2))\n",
        "\n",
        "for i in range(len(train_dicts)):\n",
        "    user = user_di[train_dicts[i]['gPlusUserId']]\n",
        "    item = place_di[train_dicts[i]['gPlusPlaceId']]\n",
        "    state = state_list.index(train_dicts[i]['state'])\n",
        "    cord = state_coords[state]\n",
        "    #price = price_di[places_meta_data[train_dicts[i]['gPlusPlaceId']]['price']]\n",
        "    X_train[i,user] = 1 # One-hot encoding of user\n",
        "    X_train[i,nUsers + item] = 1 # One-hot encoding of item\n",
        "    X_train[i,nUsers + nPlaces + 0] = len(usersPerPlace[train_dicts[i]['gPlusPlaceId']])\n",
        "    X_train[i,nUsers + nPlaces + 1] = placesPerState[train_dicts[i]['state']]\n",
        "    #X_train[i,nUsers + nPlaces+price] = 1\n",
        "\n",
        "y_train = numpy.array([d['rating'] for d in train_dicts])\n",
        "\n",
        "\n"
      ],
      "execution_count": null,
      "outputs": []
    },
    {
      "cell_type": "code",
      "metadata": {
        "id": "D11u7ZxsuMI0"
      },
      "source": [
        "t = X_train[0].todense()"
      ],
      "execution_count": null,
      "outputs": []
    },
    {
      "cell_type": "code",
      "metadata": {
        "colab": {
          "base_uri": "https://localhost:8080/"
        },
        "id": "JVHPWR7NuU-i",
        "outputId": "975a78a2-2168-4224-d080-8c9e8782469d"
      },
      "source": [
        "t.nonzero()"
      ],
      "execution_count": null,
      "outputs": [
        {
          "output_type": "execute_result",
          "data": {
            "text/plain": [
              "(array([0, 0, 0]), array([ 96429, 159313, 237192]))"
            ]
          },
          "metadata": {},
          "execution_count": 29
        }
      ]
    },
    {
      "cell_type": "code",
      "metadata": {
        "colab": {
          "base_uri": "https://localhost:8080/"
        },
        "id": "CfA1vxpPup5E",
        "outputId": "45bd7b5c-85b4-42ad-bb04-ac5e62babeca"
      },
      "source": [
        "len(usersPerPlace[40291])"
      ],
      "execution_count": null,
      "outputs": [
        {
          "output_type": "execute_result",
          "data": {
            "text/plain": [
              "0"
            ]
          },
          "metadata": {},
          "execution_count": 31
        }
      ]
    },
    {
      "cell_type": "code",
      "metadata": {
        "colab": {
          "base_uri": "https://localhost:8080/"
        },
        "id": "cdeyH_01uaSb",
        "outputId": "b8185277-758a-4c56-b530-88d32e294186"
      },
      "source": [
        "place_di[train_dicts[0]['gPlusPlaceId']]"
      ],
      "execution_count": null,
      "outputs": [
        {
          "output_type": "execute_result",
          "data": {
            "text/plain": [
              "40291"
            ]
          },
          "metadata": {},
          "execution_count": 30
        }
      ]
    },
    {
      "cell_type": "code",
      "metadata": {
        "id": "6fL4n1gOsJhu"
      },
      "source": [
        "X_val = scipy.sparse.lil_matrix((len(val_dicts), nUsers + nPlaces+2))\n",
        "\n",
        "for i in range(len(val_dicts)):\n",
        "  user_id = val_dicts[i]['gPlusUserId']\n",
        "\n",
        "  place_id = val_dicts[i]['gPlusPlaceId']\n",
        "  state = state_list.index(val_dicts[i]['state'])\n",
        "  cord = state_coords[state]\n",
        "  X_val[i,nUsers + nPlaces + 0] = len(usersPerPlace[place_id])\n",
        "  X_val[i,nUsers + nPlaces + 1] = placesPerState[val_dicts[i]['state']]\n",
        "  if(user_id in user_di and  place_id in place_di):\n",
        "\n",
        "    user = user_di[user_id]\n",
        "    item = place_di[place_id]\n",
        "    state = state_list.index(train_dicts[i]['state'])\n",
        "    #price = price_di[places_meta_data[all_dicts[i]['gPlusPlaceId']]['price']]\n",
        "\n",
        "    X_val[i,user] = 1 # One-hot encoding of user\n",
        "    X_val[i,nUsers + item] = 1 # One-hot encoding of item\n",
        "    #X_train[i,nUsers + nPlaces + state] = 1\n",
        "    #X_val[i,nUsers + nPlaces+price] = 1\n",
        "\n",
        "  elif(user_id in user_di):\n",
        "    user = user_di[user_id]\n",
        "    X_val[i,user] = 1 # One-hot encoding of user\n",
        "  elif(place_id in place_di):\n",
        "    item = place_di[place_id]\n",
        "    #price = price_di[places_meta_data[all_dicts[i]['gPlusPlaceId']]['price']]\n",
        "    X_val[i,nUsers + item] = 1 # One-hot encoding of item\n",
        "    #X_val[i,nUsers + nPlaces+price] = 1\n",
        "\n",
        "y_val = numpy.array([d['rating'] for d in val_dicts])"
      ],
      "execution_count": null,
      "outputs": []
    },
    {
      "cell_type": "code",
      "metadata": {
        "id": "o2TnYsKgsGvu"
      },
      "source": [
        "X_test = scipy.sparse.lil_matrix((len(test_dicts), nUsers + nPlaces+2))\n",
        "\n",
        "for i in range(len(test_dicts)):\n",
        "  user_id = test_dicts[i]['gPlusUserId']\n",
        "\n",
        "  place_id = test_dicts[i]['gPlusPlaceId']\n",
        "  state = state_list.index(test_dicts[i]['state'])\n",
        "  cord = state_coords[state]\n",
        "  X_test[i,nUsers + nPlaces + 0] = len(usersPerPlace[place_id])\n",
        "  X_test[i,nUsers + nPlaces + 1] = placesPerState[test_dicts[i]['state']]\n",
        "  if(user_id in user_di and  place_id in place_di):\n",
        "\n",
        "    user = user_di[user_id]\n",
        "    item = place_di[place_id]\n",
        "\n",
        "    #price = price_di[places_meta_data[all_dicts[i]['gPlusPlaceId']]['price']]\n",
        "\n",
        "    X_test[i,user] = 1 # One-hot encoding of user\n",
        "    X_test[i,nUsers + item] = 1 # One-hot encoding of item\n",
        "    #X_test[i,nUsers + nPlaces+price] = 1\n",
        "\n",
        "  elif(user_id in user_di):\n",
        "    user = user_di[user_id]\n",
        "    X_test[i,user] = 1 # One-hot encoding of user\n",
        "  elif(place_id in place_di):\n",
        "    item = place_di[place_id]\n",
        "    #price = price_di[places_meta_data[all_dicts[i]['gPlusPlaceId']]['price']]\n",
        "    X_test[i,nUsers + item] = 1 # One-hot encoding of item\n",
        "    #X_test[i,nUsers + nPlaces+price] = 1\n",
        "\n",
        "y_test = numpy.array([d['rating'] for d in test_dicts])"
      ],
      "execution_count": null,
      "outputs": []
    },
    {
      "cell_type": "code",
      "metadata": {
        "colab": {
          "base_uri": "https://localhost:8080/"
        },
        "id": "crBTRCcqsLSt",
        "outputId": "888db574-2b16-452f-8592-9d4b255d9c61"
      },
      "source": [
        "fm3 = als.FMRegression(init_stdev=0.1, rank=0, l2_reg_w=5)\n",
        "\n",
        "fm3.fit(X_train, y_train)\n",
        "\n",
        "y_pred_train = fm3.predict(X_train)\n",
        "print(MSE(y_pred_train, y_train))\n",
        "\n",
        "y_pred_val = fm3.predict(X_val)\n",
        "print(MSE(y_pred_val, y_val))\n",
        "\n",
        "y_test_pred = fm3.predict(X_test)"
      ],
      "execution_count": null,
      "outputs": [
        {
          "output_type": "stream",
          "name": "stdout",
          "text": [
            "0.7270189332824109\n",
            "1.378270040682252\n"
          ]
        }
      ]
    },
    {
      "cell_type": "code",
      "metadata": {
        "id": "qYAooao8xA3N",
        "colab": {
          "base_uri": "https://localhost:8080/"
        },
        "outputId": "1a4bd72c-ac11-42ce-fac9-be744e9b9164"
      },
      "source": [
        "print(MSE(y_test_pred, y_test))"
      ],
      "execution_count": null,
      "outputs": [
        {
          "output_type": "stream",
          "name": "stdout",
          "text": [
            "1.3880269067845095\n"
          ]
        }
      ]
    }
  ]
}