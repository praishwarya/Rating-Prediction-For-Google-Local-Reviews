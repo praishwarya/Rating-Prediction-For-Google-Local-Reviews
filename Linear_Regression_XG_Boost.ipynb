{
 "cells": [
  {
   "cell_type": "code",
   "execution_count": null,
   "id": "4888fa78",
   "metadata": {},
   "outputs": [],
   "source": [
    "from sklearn import linear_model\n",
    "import pickle\n",
    "from collections import defaultdict\n",
    "import numpy\n",
    "\n",
    "with open(\"Cat_price_filtered_review_train.pkl\",\"rb\") as fp:\n",
    "     cat_dicts = pickle.load(fp)\n",
    "        \n",
    "train_cat_dicts = cat_dicts[:600000]\n",
    "##val_cat_dicts = cat_dicts[500000:600000]\n",
    "test_cat_dicts = cat_dicts[600000:]\n",
    "\n",
    "with open(\"Grid_dict.pkl\",\"rb\") as fp:\n",
    "     grid_dicts = pickle.load(fp)\n",
    "        \n",
    "with open(\"Top_Categories_50.pkl\",\"rb\") as fp:\n",
    "     top_dicts = pickle.load(fp)"
   ]
  },
  {
   "cell_type": "code",
   "execution_count": 16,
   "id": "66156112",
   "metadata": {},
   "outputs": [
    {
     "data": {
      "text/plain": [
       "[{'rating': 4.0,\n",
       "  'reviewerName': 'william spindler',\n",
       "  'reviewText': 'Best War Wanton soup in Red Bluff',\n",
       "  'categories': ['Asian Restaurant', 'Chinese Restaurant'],\n",
       "  'gPlusPlaceId': '106591714648856494903',\n",
       "  'unixReviewTime': 1394669496,\n",
       "  'reviewTime': 'Mar 12, 2014',\n",
       "  'gPlusUserId': '100000032416892623125',\n",
       "  'gps': [40.179159, -122.236162]},\n",
       " {'rating': 5.0,\n",
       "  'reviewerName': 'william spindler',\n",
       "  'reviewText': \"This is a review that is long overdo. I've been enjoying the great pizza at this restaurant for over a year now and it's hands down the best in town. I saw a review on here saying the pizza was greasy, and I'll bet it was for a peperoni pizza. I don't know how you could put so many slices of peperoni on, where you can't even see the cheese, without a little pepperoni grease escaping. These guys at Firehouse make the pizzas that everyone else does in their commercials, you can watch as they pile the toppings a mile high on every pie. And when was the last time you saw someone slicing bell peppers and tomatoes by hand for your pizza. I honestly have a hard time understanding how these guys stay in business, but I'm glad they do. And the five dollar slice and soda lunch is probably the best value in town. Thanks guys, keep it up.\",\n",
       "  'categories': ['European Restaurant',\n",
       "   'Italian Restaurant',\n",
       "   'Pizza Restaurant'],\n",
       "  'gPlusPlaceId': '109420033090810328045',\n",
       "  'unixReviewTime': 1394826388,\n",
       "  'reviewTime': 'Mar 14, 2014',\n",
       "  'gPlusUserId': '100000032416892623125',\n",
       "  'gps': [40.178074, -122.235234]},\n",
       " {'rating': 5.0,\n",
       "  'reviewerName': 'william spindler',\n",
       "  'reviewText': \"Some authentic rub BBQ, great food and don't miss the jerky.\",\n",
       "  'categories': ['Barbecue Restaurant'],\n",
       "  'gPlusPlaceId': '111623070919810985923',\n",
       "  'unixReviewTime': 1394671215,\n",
       "  'reviewTime': 'Mar 12, 2014',\n",
       "  'gPlusUserId': '100000032416892623125',\n",
       "  'gps': [40.184955, -122.186557]},\n",
       " {'rating': 4.0,\n",
       "  'reviewerName': 'william spindler',\n",
       "  'reviewText': \"Truly a Red Bluff standard. Great old fashioned drive in with everything you could want from one. I see people say they been coming for 15 years but have an off day and I'll teach them by writing a review. Well I've been going there far longer than that and I have no complaints. Where else are you going to get a good root beer shake in this town?\",\n",
       "  'categories': ['Restaurant'],\n",
       "  'gPlusPlaceId': '113854191152597312098',\n",
       "  'unixReviewTime': 1394670357,\n",
       "  'reviewTime': 'Mar 12, 2014',\n",
       "  'gPlusUserId': '100000032416892623125',\n",
       "  'gps': [40.185961, -122.209742]},\n",
       " {'rating': 5.0,\n",
       "  'reviewerName': 'william spindler',\n",
       "  'reviewText': 'Long time favorite Mexican food, always consistent and great tasting.',\n",
       "  'categories': ['Mexican Restaurant'],\n",
       "  'gPlusPlaceId': '115827996910815192564',\n",
       "  'unixReviewTime': 1394669713,\n",
       "  'reviewTime': 'Mar 12, 2014',\n",
       "  'gPlusUserId': '100000032416892623125',\n",
       "  'gps': [40.175064, -122.242574]},\n",
       " {'rating': 5.0,\n",
       "  'reviewerName': 'william spindler',\n",
       "  'reviewText': 'Best Hot Sour soup anywhere.',\n",
       "  'categories': ['Chinese Restaurant'],\n",
       "  'gPlusPlaceId': '116585428624152564242',\n",
       "  'unixReviewTime': 1394842359,\n",
       "  'reviewTime': 'Mar 14, 2014',\n",
       "  'gPlusUserId': '100000032416892623125',\n",
       "  'gps': [40.170748, -122.228931]},\n",
       " {'rating': 5.0,\n",
       "  'reviewerName': 'Jacquelyn Dorris',\n",
       "  'reviewText': None,\n",
       "  'categories': ['College'],\n",
       "  'gPlusPlaceId': '104616184831707794985',\n",
       "  'unixReviewTime': 1331939751,\n",
       "  'reviewTime': 'Mar 16, 2012',\n",
       "  'gPlusUserId': '100000035085750632094',\n",
       "  'gps': [34.140884, -117.999102]},\n",
       " {'rating': 5.0,\n",
       "  'reviewerName': 'Mohammad Usmani',\n",
       "  'reviewText': 'Have been visiting for 11 years with family never had any problems or issues. Very considerate, generous and professional people. Good job!',\n",
       "  'categories': ['Dental Clinic',\n",
       "   'Dental Implants Periodontist',\n",
       "   'Teeth Whitening Service'],\n",
       "  'gPlusPlaceId': '117331301730155452309',\n",
       "  'unixReviewTime': 1343696896,\n",
       "  'reviewTime': 'Jul 30, 2012',\n",
       "  'gPlusUserId': '100000043260896241030',\n",
       "  'gps': [38.853171, -77.132667]},\n",
       " {'rating': 5.0,\n",
       "  'reviewerName': 'Johanna S',\n",
       "  'reviewText': \"My husband uses his truck for work, and several months ago we started having problems with it. We needed it fixed ASAP in order for him to get back to work. It was a Thursday and I called the closest dealership, Lithia in Corpus, and they said they wouldn't be able to even look at it until the following Wednesday. So I called Port Lavaca Dodge. They told me to bring it that day, and they would do their best to get it looked at.  Long story short, the truck was up and running good as new by the following Wednesday. That's why we continue to drive the extra hour to Port Lavaca to have both our trucks serviced there.\",\n",
       "  'categories': ['Car Dealer'],\n",
       "  'gPlusPlaceId': '104231480695579463827',\n",
       "  'unixReviewTime': 1362944666,\n",
       "  'reviewTime': 'Mar 10, 2013',\n",
       "  'gPlusUserId': '100000050936341836015',\n",
       "  'gps': [28.612878, -96.645718]},\n",
       " {'rating': 2.0,\n",
       "  'reviewerName': 'Richard Yocom',\n",
       "  'reviewText': 'Open 24 hours is a plus but really slow. Sat in drive thru for 30 minutes. Was not real friendly. Food was ok',\n",
       "  'categories': ['Restaurant'],\n",
       "  'gPlusPlaceId': '100073820849130920147',\n",
       "  'unixReviewTime': 1376203530,\n",
       "  'reviewTime': 'Aug 10, 2013',\n",
       "  'gPlusUserId': '100000053212755369563',\n",
       "  'gps': [32.413658, -88.677648]}]"
      ]
     },
     "execution_count": 16,
     "metadata": {},
     "output_type": "execute_result"
    }
   ],
   "source": [
    "cat_dicts[:10]\n",
    "#grid_dicts[(41.0, -122.0)]"
   ]
  },
  {
   "cell_type": "code",
   "execution_count": 17,
   "id": "968c38c8",
   "metadata": {},
   "outputs": [],
   "source": [
    "users = set([x['gPlusUserId'] for x in train_cat_dicts])\n",
    "places = set([x['gPlusPlaceId'] for x in train_cat_dicts])"
   ]
  },
  {
   "cell_type": "code",
   "execution_count": null,
   "id": "0f8fc2a7",
   "metadata": {},
   "outputs": [],
   "source": [
    "mod_train_dicts = []\n",
    "usersPerPlace = defaultdict(set) # Maps an item to the users who rated it\n",
    "placesPerUser = defaultdict(set) # Maps a user to the items that they rated\n",
    "\n",
    "for d in train_cat_dicts:\n",
    "    user = d['gPlusUserId']\n",
    "    place = d['gPlusPlaceId']\n",
    "    usersPerPlace[place].add(user)\n",
    "    placesPerUser[user].add(place)\n",
    "    mod_train_dicts.append(d)"
   ]
  },
  {
   "cell_type": "code",
   "execution_count": 19,
   "id": "6de647a7",
   "metadata": {},
   "outputs": [
    {
     "data": {
      "text/plain": [
       "{'rating': 4.0,\n",
       " 'reviewerName': 'william spindler',\n",
       " 'reviewText': 'Best War Wanton soup in Red Bluff',\n",
       " 'categories': ['Asian Restaurant', 'Chinese Restaurant'],\n",
       " 'gPlusPlaceId': '106591714648856494903',\n",
       " 'unixReviewTime': 1394669496,\n",
       " 'reviewTime': 'Mar 12, 2014',\n",
       " 'gPlusUserId': '100000032416892623125',\n",
       " 'gps': [40.179159, -122.236162]}"
      ]
     },
     "execution_count": 19,
     "metadata": {},
     "output_type": "execute_result"
    }
   ],
   "source": [
    "mod_train_dicts[0]"
   ]
  },
  {
   "cell_type": "code",
   "execution_count": null,
   "id": "bedb4dd5",
   "metadata": {},
   "outputs": [],
   "source": [
    "mod_test_dicts = []\n",
    "usersPerPlace_test = defaultdict(set) # Maps an item to the users who rated it\n",
    "placesPerUser_test = defaultdict(set) # Maps a user to the items that they rated\n",
    "\n",
    "for d in test_cat_dicts:\n",
    "    user = d['gPlusUserId']\n",
    "    place = d['gPlusPlaceId']\n",
    "    usersPerPlace_test[place].add(user)\n",
    "    placesPerUser_test[user].add(place)\n",
    "    mod_test_dicts.append(d)"
   ]
  },
  {
   "cell_type": "code",
   "execution_count": 22,
   "id": "4b9ef1be",
   "metadata": {},
   "outputs": [
    {
     "data": {
      "text/plain": [
       "{'rating': 5.0,\n",
       " 'reviewerName': 'Joe Smith',\n",
       " 'reviewText': 'great pizza.. goes way back for tight knit neighborhood of nutley',\n",
       " 'categories': ['Pizza Restaurant', 'Italian Restaurant'],\n",
       " 'gPlusPlaceId': '110454405244561281537',\n",
       " 'unixReviewTime': 1364868068,\n",
       " 'reviewTime': 'Apr 1, 2013',\n",
       " 'gPlusUserId': '102002312769661400638',\n",
       " 'gps': [40.825006, -74.153256]}"
      ]
     },
     "execution_count": 22,
     "metadata": {},
     "output_type": "execute_result"
    }
   ],
   "source": [
    "mod_test_dicts[0]"
   ]
  },
  {
   "cell_type": "code",
   "execution_count": 24,
   "id": "220a6a7e",
   "metadata": {},
   "outputs": [],
   "source": [
    "one_hot_cat = dict()\n",
    "zero = [0]*49\n",
    "j = 0\n",
    "one_hot_cat[\"['Restaurant']\"] = zero\n",
    "for i in top_dicts[1:]:\n",
    "    one_hot_cat[str(i)] = zero[:j] + [1] + zero[j+1:]\n",
    "    j = j + 1"
   ]
  },
  {
   "cell_type": "code",
   "execution_count": 25,
   "id": "aed7da95",
   "metadata": {},
   "outputs": [],
   "source": [
    "min_lat = 20\n",
    "max_lat = 60\n",
    "\n",
    "min_long = -125\n",
    "max_long = -60\n",
    "\n",
    "def grid_id(lat,lon,lat_lines,long_lines):\n",
    "    if lat < lat_lines.min() or lat > lat_lines.max() or lon < long_lines.min() or lon > long_lines.max():\n",
    "        return (-1,-1)\n",
    "    else:\n",
    "        grid_lat = lat_lines[numpy.searchsorted(lat_lines,lat)]\n",
    "        grid_long = long_lines[numpy.searchsorted(long_lines,lon)]\n",
    "    return (grid_lat,grid_long)\n",
    "\n",
    "lat_lines = numpy.linspace(min_lat,max_lat,num=max_lat-min_lat +1)\n",
    "long_lines = numpy.linspace(min_long,max_long,num=max_long-min_long+1)"
   ]
  },
  {
   "cell_type": "code",
   "execution_count": 26,
   "id": "8502d4f5",
   "metadata": {},
   "outputs": [],
   "source": [
    "max_len = 0\n",
    "max_place = 0\n",
    "max_user = 0\n",
    "max_grid = 0\n",
    "sum_len = 0\n",
    "for i in mod_train_dicts:\n",
    "    if(i['reviewText'] != None and len(i['reviewText']) > max_len):\n",
    "        max_len = len(i['reviewText'].split())\n",
    "        sum_len = sum_len + len(i['reviewText'].split())\n",
    "\n",
    "    if(len(usersPerPlace[i['gPlusPlaceId']]) > max_place):\n",
    "        max_place = len(usersPerPlace[i['gPlusPlaceId']])\n",
    "        \n",
    "    if(len(placesPerUser[i['gPlusUserId']]) > max_user):\n",
    "        max_user = len(placesPerUser[i['gPlusUserId']])\n",
    "     \n",
    "    if(i['gps'] != None and len(grid_dicts[grid_id(i['gps'][0], i['gps'][1], lat_lines, long_lines)]) > max_grid):\n",
    "        max_grid = len(grid_dicts[grid_id(i['gps'][0], i['gps'][1], lat_lines, long_lines)])\n",
    "        \n",
    "avg_len = sum_len/len(mod_train_dicts)"
   ]
  },
  {
   "cell_type": "code",
   "execution_count": 50,
   "id": "d02e40e3",
   "metadata": {},
   "outputs": [],
   "source": [
    "x_train_feat = []\n",
    "y_train_lab = []\n",
    "for i in mod_train_dicts:\n",
    "    if str(i['categories']) in one_hot_cat and i['gps'] != None:\n",
    "        if(i['reviewText'] != None):\n",
    "            x_train_feat.append([1] + [len(grid_dicts[grid_id(i['gps'][0], i['gps'][1], lat_lines, long_lines)])/max_grid] + [len(i['reviewText'].split())/max_len] + one_hot_cat[str(i['categories'])] + [len(usersPerPlace[i['gPlusPlaceId']])/max_place] + [len(placesPerUser[i['gPlusUserId']])/max_user])\n",
    "        else:\n",
    "            x_train_feat.append([1] + [len(grid_dicts[grid_id(i['gps'][0], i['gps'][1], lat_lines, long_lines)])/max_grid] + [avg_len/max_len] + one_hot_cat[str(i['categories'])] + [len(usersPerPlace[i['gPlusPlaceId']])/max_place] + [len(placesPerUser[i['gPlusUserId']])/max_user])        \n",
    "        y_train_lab.append(int(i['rating'])-1)"
   ]
  },
  {
   "cell_type": "code",
   "execution_count": 51,
   "id": "0067e901",
   "metadata": {},
   "outputs": [],
   "source": [
    "x_test_feat = []\n",
    "y_test_lab = []\n",
    "for i in mod_test_dicts:\n",
    "    if str(i['categories']) in one_hot_cat and i['gps'] != None:\n",
    "        if(i['reviewText'] != None):\n",
    "            x_test_feat.append([1] + [len(grid_dicts[grid_id(i['gps'][0], i['gps'][1], lat_lines, long_lines)])/max_grid] + [len(i['reviewText'].split())/max_len] + one_hot_cat[str(i['categories'])] + [len(usersPerPlace[i['gPlusPlaceId']])/max_place] + [len(placesPerUser[i['gPlusUserId']])/max_user])\n",
    "        else:\n",
    "            x_test_feat.append([1] + [len(grid_dicts[grid_id(i['gps'][0], i['gps'][1], lat_lines, long_lines)])/max_grid] + [avg_len/max_len] + one_hot_cat[str(i['categories'])] + [len(usersPerPlace[i['gPlusPlaceId']])/max_place] + [len(placesPerUser[i['gPlusUserId']])/max_user])        \n",
    "        y_test_lab.append(int(i['rating'])-1)"
   ]
  },
  {
   "cell_type": "code",
   "execution_count": 52,
   "id": "200b42e5",
   "metadata": {},
   "outputs": [
    {
     "name": "stderr",
     "output_type": "stream",
     "text": [
      "/var/folders/jj/lym056hx4f13hv_jw4ytgmrm0000gn/T/ipykernel_42368/2406157836.py:2: FutureWarning: `rcond` parameter will change to the default of machine precision times ``max(M, N)`` where M and N are the input matrix dimensions.\n",
      "To use the future default and silence this warning we advise to pass `rcond=None`, to keep using the old, explicitly pass `rcond=-1`.\n",
      "  theta, residuals, rank, s = numpy.linalg.lstsq(x_train_feat, y_train_lab)\n"
     ]
    }
   ],
   "source": [
    "# Training model and finding theta\n",
    "theta, residuals, rank, s = numpy.linalg.lstsq(x_train_feat, y_train_lab)\n"
   ]
  },
  {
   "cell_type": "code",
   "execution_count": null,
   "id": "588618cb",
   "metadata": {},
   "outputs": [],
   "source": [
    "def MSE(y, pred):\n",
    "    sq_err = 0\n",
    "    for i in range(len(y)):\n",
    "        sq_err = sq_err + (y[i] - pred[i])**2\n",
    "    mse = (1/len(y))*sq_err\n",
    "    return mse\n",
    "\n",
    "# Train Predicting\n",
    "pred = []\n",
    "for i in x_train_feat:\n",
    "    pred.append(numpy.dot(theta, i))\n",
    "    \n",
    "for i in range(len(pred)):\n",
    "    if pred[i] > 5:\n",
    "        pred[i] = 5\n",
    "    if pred[i] < 0:\n",
    "        pred[i] = 0\n",
    "    \n",
    "mse = MSE(y_train_lab, pred)\n",
    "print(\"Train MSE: \", mse)\n",
    "\n",
    "# Val Predicting\n",
    "pred = []\n",
    "for i in x_test_feat:\n",
    "    pred.append(numpy.dot(theta, i))\n",
    "\n",
    "for i in range(len(pred)):\n",
    "    if pred[i] > 5:\n",
    "        pred[i] = 5\n",
    "    if pred[i] < 0:\n",
    "        pred[i] = 0\n",
    "\n",
    "mse = MSE(y_test_lab, pred)\n",
    "print(\"Val MSE: \", mse)"
   ]
  },
  {
   "cell_type": "code",
   "execution_count": null,
   "id": "a26d6701",
   "metadata": {},
   "outputs": [],
   "source": [
    "# XGBoost\n",
    "%pip install xgboost\n",
    "import xgboost as xgb\n",
    "\n",
    "gbm = xgb.XGBClassifier(max_depth=3, n_estimators=500, learning_rate=0.05, gamma = 5, reg_lambda = 5,subsample=0.3, colsample_bytree=0.5).fit(numpy.asarray(x_train_feat), numpy.asarray(y_train_lab))\n",
    "gbm_train_pred = gbm.predict(numpy.asarray(x_train_feat))\n",
    "\n",
    "gbm_val_pred = gbm.predict(numpy.asarray(x_test_feat))"
   ]
  },
  {
   "cell_type": "code",
   "execution_count": null,
   "id": "081c71d3",
   "metadata": {},
   "outputs": [],
   "source": [
    "mse = MSE(y_train_lab, gbm_train_pred)\n",
    "print(\"Train MSE: \", mse)\n",
    "        \n",
    "mse = MSE(y_test_lab, gbm_val_pred)\n",
    "print(\"Val MSE: \", mse)"
   ]
  }
 ],
 "metadata": {
  "kernelspec": {
   "display_name": "tf",
   "language": "python",
   "name": "python3"
  },
  "language_info": {
   "codemirror_mode": {
    "name": "ipython",
    "version": 3
   },
   "file_extension": ".py",
   "mimetype": "text/x-python",
   "name": "python",
   "nbconvert_exporter": "python",
   "pygments_lexer": "ipython3",
   "version": "3.10.10"
  }
 },
 "nbformat": 4,
 "nbformat_minor": 5
}
