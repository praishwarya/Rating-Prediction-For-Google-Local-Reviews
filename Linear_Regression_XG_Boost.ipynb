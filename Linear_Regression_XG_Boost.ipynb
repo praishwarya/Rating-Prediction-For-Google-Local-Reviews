{
 "cells": [
  {
   "cell_type": "code",
   "execution_count": 148,
   "id": "4888fa78",
   "metadata": {},
   "outputs": [],
   "source": [
    "from sklearn import linear_model\n",
    "import pickle\n",
    "from collections import defaultdict\n",
    "import numpy\n",
    "\n",
    "with open(\"Cat_price_filtered_review_train.pkl\",\"rb\") as fp:\n",
    "     cat_dicts = pickle.load(fp)\n",
    "        \n",
    "train_cat_dicts = cat_dicts[:600000]\n",
    "#val_cat_dicts = cat_dicts[500000:600000]\n",
    "test_cat_dicts = cat_dicts[600000:]\n",
    "\n",
    "with open(\"Grid_dict.pkl\",\"rb\") as fp:\n",
    "     grid_dicts = pickle.load(fp)\n",
    "        \n",
    "with open(\"Top_Categories_50.pkl\",\"rb\") as fp:\n",
    "     top_dicts = pickle.load(fp)"
   ]
  },
  {
   "cell_type": "code",
   "execution_count": 222,
   "id": "66156112",
   "metadata": {},
   "outputs": [
    {
     "data": {
      "text/plain": [
       "[{'rating': 4.0,\n",
       "  'reviewerName': 'william spindler',\n",
       "  'reviewText': 'Best War Wanton soup in Red Bluff',\n",
       "  'categories': ['Asian Restaurant', 'Chinese Restaurant'],\n",
       "  'gPlusPlaceId': '106591714648856494903',\n",
       "  'unixReviewTime': 1394669496,\n",
       "  'reviewTime': 'Mar 12, 2014',\n",
       "  'gPlusUserId': '100000032416892623125',\n",
       "  'gps': (40.179159, -122.236162)},\n",
       " {'rating': 5.0,\n",
       "  'reviewerName': 'william spindler',\n",
       "  'reviewText': 'Long time favorite Mexican food, always consistent and great tasting.',\n",
       "  'categories': ['Mexican Restaurant'],\n",
       "  'gPlusPlaceId': '115827996910815192564',\n",
       "  'unixReviewTime': 1394669713,\n",
       "  'reviewTime': 'Mar 12, 2014',\n",
       "  'gPlusUserId': '100000032416892623125',\n",
       "  'gps': (40.175064, -122.242574)},\n",
       " {'rating': 2.0,\n",
       "  'reviewerName': 'Richard Yocom',\n",
       "  'reviewText': 'Open 24 hours is a plus but really slow. Sat in drive thru for 30 minutes. Was not real friendly. Food was ok',\n",
       "  'categories': ['Restaurant'],\n",
       "  'gPlusPlaceId': '100073820849130920147',\n",
       "  'unixReviewTime': 1376203530,\n",
       "  'reviewTime': 'Aug 10, 2013',\n",
       "  'gPlusUserId': '100000053212755369563',\n",
       "  'gps': (32.413658, -88.677648)},\n",
       " {'rating': 2.0,\n",
       "  'reviewerName': 'Richard Yocom',\n",
       "  'reviewText': \"We ordered two large pizzas during the any pizza any way for $10. Our order come to $38 including a salad. You now have to ask for the special or you won't get it. They will charge you full price. The salad was pathetic and disgusting it had gnats all over it in the food and flying around. Service was ok. But for a salad bar to look that way was ridiculous....will not be back. You will wait a while for your pizza....\",\n",
       "  'categories': ['Pizza Restaurant', 'European Restaurant'],\n",
       "  'gPlusPlaceId': '102333498482915416504',\n",
       "  'unixReviewTime': 1378170758,\n",
       "  'reviewTime': 'Sep 2, 2013',\n",
       "  'gPlusUserId': '100000053212755369563',\n",
       "  'gps': (30.09469, -83.580572)},\n",
       " {'rating': 1.0,\n",
       "  'reviewerName': 'Richard Yocom',\n",
       "  'reviewText': 'CLOSED!!!!!',\n",
       "  'categories': ['Pizza Restaurant', 'European Restaurant'],\n",
       "  'gPlusPlaceId': '102471437282277965376',\n",
       "  'unixReviewTime': 1376679290,\n",
       "  'reviewTime': 'Aug 16, 2013',\n",
       "  'gPlusUserId': '100000053212755369563',\n",
       "  'gps': (30.80096, -83.935407)},\n",
       " {'rating': 2.0,\n",
       "  'reviewerName': 'Richard Yocom',\n",
       "  'reviewText': 'Food was good. Had steak salad and a taco. Was sick and asked for a to go box for the plate of food I had already made and took 5 bites of. The waitress was very polite and friendly and asked her manager if I could have a box and he said NO. I asked to speak with him and he leaned on a wall and asked \"whatcha want\" I explained my situation and he replied with you have already come in and once you\\'ve paid for the buffett that was it. He wasn\\'t even sympathetic about me being sick he wouldnt refund my money either I had to call the  corprate office to get my money back....',\n",
       "  'categories': ['Restaurant', 'American Restaurant'],\n",
       "  'gPlusPlaceId': '103519165841762621376',\n",
       "  'unixReviewTime': 1376616004,\n",
       "  'reviewTime': 'Aug 15, 2013',\n",
       "  'gPlusUserId': '100000053212755369563',\n",
       "  'gps': (32.362456, -88.676926)},\n",
       " {'rating': 2.0,\n",
       "  'reviewerName': 'Richard Yocom',\n",
       "  'reviewText': 'Got order to go and was fairly fast but was not the cleanest place....',\n",
       "  'categories': ['American Restaurant'],\n",
       "  'gPlusPlaceId': '107667540471917464953',\n",
       "  'unixReviewTime': 1376203678,\n",
       "  'reviewTime': 'Aug 10, 2013',\n",
       "  'gPlusUserId': '100000053212755369563',\n",
       "  'gps': (32.367399, -88.675488)},\n",
       " {'rating': 3.0,\n",
       "  'reviewerName': 'Jackie Harvilla',\n",
       "  'reviewText': 'Biscits hard as a rock..actually knocked on table and watress heard it....food was good biscuits no',\n",
       "  'categories': ['American Restaurant'],\n",
       "  'gPlusPlaceId': '117682556988480065346',\n",
       "  'unixReviewTime': 1353780566,\n",
       "  'reviewTime': 'Nov 24, 2012',\n",
       "  'gPlusUserId': '100000059843227870895',\n",
       "  'gps': (40.2335, -77.12555)},\n",
       " {'rating': 5.0,\n",
       "  'reviewerName': 'Anne Mason',\n",
       "  'reviewText': \"I've been here dozens of times, and I'll keep coming back. I really like the usuzukari and the Bruce roll\",\n",
       "  'categories': ['Sushi Restaurant',\n",
       "   'Asian Restaurant',\n",
       "   'Japanese Restaurant'],\n",
       "  'gPlusPlaceId': '111971088396054239194',\n",
       "  'unixReviewTime': 1394848761,\n",
       "  'reviewTime': 'Mar 14, 2014',\n",
       "  'gPlusUserId': '100000106576186066497',\n",
       "  'gps': (37.961078, -121.748886)},\n",
       " {'rating': 2.0,\n",
       "  'reviewerName': 'William Corcuera',\n",
       "  'reviewText': \"I ordered 4 rolled tacos. when I received them, I got a lot of guacamole just smothered on my tacos. A little bit of yellow cheese, where's the lettuce sourcream and salsa fresca Service was great toobad for the food.\",\n",
       "  'categories': ['Mexican Restaurant', 'Latin American Restaurant'],\n",
       "  'gPlusPlaceId': '105242172534828461225',\n",
       "  'unixReviewTime': 1324327546,\n",
       "  'reviewTime': 'Dec 19, 2011',\n",
       "  'gPlusUserId': '100000122158721897485',\n",
       "  'gps': (33.131197, -117.260452)}]"
      ]
     },
     "execution_count": 222,
     "metadata": {},
     "output_type": "execute_result"
    }
   ],
   "source": [
    "cat_dicts[:10]\n",
    "#grid_dicts[(41.0, -122.0)]"
   ]
  },
  {
   "cell_type": "code",
   "execution_count": 149,
   "id": "968c38c8",
   "metadata": {},
   "outputs": [],
   "source": [
    "users = set([x['gPlusUserId'] for x in train_cat_dicts])\n",
    "places = set([x['gPlusPlaceId'] for x in train_cat_dicts])"
   ]
  },
  {
   "cell_type": "code",
   "execution_count": 145,
   "id": "8a085910",
   "metadata": {},
   "outputs": [],
   "source": [
    "#user_di['110066519980916079964']"
   ]
  },
  {
   "cell_type": "code",
   "execution_count": 150,
   "id": "0f8fc2a7",
   "metadata": {},
   "outputs": [],
   "source": [
    "mod_train_dicts = []\n",
    "usersPerPlace = defaultdict(set) # Maps an item to the users who rated it\n",
    "placesPerUser = defaultdict(set) # Maps a user to the items that they rated\n",
    "\n",
    "for d in train_cat_dicts:\n",
    "    user = d['gPlusUserId']\n",
    "    place = d['gPlusPlaceId']\n",
    "    usersPerPlace[place].add(user)\n",
    "    placesPerUser[user].add(place)\n",
    "    #r = int(d['rating'])\n",
    "    #d['rating'] = r\n",
    "    mod_train_dicts.append(d)"
   ]
  },
  {
   "cell_type": "code",
   "execution_count": 151,
   "id": "6de647a7",
   "metadata": {},
   "outputs": [
    {
     "data": {
      "text/plain": [
       "{'rating': 4.0,\n",
       " 'reviewerName': 'william spindler',\n",
       " 'reviewText': 'Best War Wanton soup in Red Bluff',\n",
       " 'categories': ['Asian Restaurant', 'Chinese Restaurant'],\n",
       " 'gPlusPlaceId': '106591714648856494903',\n",
       " 'unixReviewTime': 1394669496,\n",
       " 'reviewTime': 'Mar 12, 2014',\n",
       " 'gPlusUserId': '100000032416892623125',\n",
       " 'gps': (40.179159, -122.236162)}"
      ]
     },
     "execution_count": 151,
     "metadata": {},
     "output_type": "execute_result"
    }
   ],
   "source": [
    "mod_train_dicts[0]"
   ]
  },
  {
   "cell_type": "code",
   "execution_count": 152,
   "id": "bedb4dd5",
   "metadata": {},
   "outputs": [],
   "source": [
    "mod_test_dicts = []\n",
    "usersPerPlace_test = defaultdict(set) # Maps an item to the users who rated it\n",
    "placesPerUser_test = defaultdict(set) # Maps a user to the items that they rated\n",
    "\n",
    "for d in test_cat_dicts:\n",
    "    user = d['gPlusUserId']\n",
    "    place = d['gPlusPlaceId']\n",
    "    usersPerPlace_test[place].add(user)\n",
    "    placesPerUser_test[user].add(place)\n",
    "    #r = int(d['rating'])\n",
    "    #d['rating'] = r\n",
    "    mod_test_dicts.append(d)"
   ]
  },
  {
   "cell_type": "code",
   "execution_count": 153,
   "id": "4b9ef1be",
   "metadata": {},
   "outputs": [
    {
     "data": {
      "text/plain": [
       "{'rating': 4.0,\n",
       " 'reviewerName': 'Alyssa Blaylock',\n",
       " 'reviewText': 'Best Food In town. period.',\n",
       " 'categories': ['Barbecue Restaurant'],\n",
       " 'gPlusPlaceId': '101528116980929093146',\n",
       " 'unixReviewTime': 1338420798,\n",
       " 'reviewTime': 'May 30, 2012',\n",
       " 'gPlusUserId': '114572295318502583651',\n",
       " 'gps': (44.637578, -123.10424)}"
      ]
     },
     "execution_count": 153,
     "metadata": {},
     "output_type": "execute_result"
    }
   ],
   "source": [
    "mod_test_dicts[0]"
   ]
  },
  {
   "cell_type": "code",
   "execution_count": 52,
   "id": "d6a35b1a",
   "metadata": {},
   "outputs": [
    {
     "data": {
      "text/plain": [
       "{'100000032416892623125', '100660899335968702364', '109681769048735571251'}"
      ]
     },
     "execution_count": 52,
     "metadata": {},
     "output_type": "execute_result"
    }
   ],
   "source": [
    "#usersPerPlace['106591714648856494903']"
   ]
  },
  {
   "cell_type": "code",
   "execution_count": 154,
   "id": "220a6a7e",
   "metadata": {},
   "outputs": [],
   "source": [
    "one_hot_cat = dict()\n",
    "zero = [0]*49\n",
    "j = 0\n",
    "one_hot_cat[\"['American Restaurant']\"] = zero\n",
    "for i in top_dicts[1:]:\n",
    "    one_hot_cat[str(i)] = zero[:j] + [1] + zero[j+1:]\n",
    "    j = j + 1"
   ]
  },
  {
   "cell_type": "code",
   "execution_count": 156,
   "id": "aed7da95",
   "metadata": {},
   "outputs": [],
   "source": [
    "min_lat = 20\n",
    "max_lat = 60\n",
    "\n",
    "min_long = -125\n",
    "max_long = -60\n",
    "\n",
    "def grid_id(lat,lon,lat_lines,long_lines):\n",
    "    if lat < lat_lines.min() or lat > lat_lines.max() or lon < long_lines.min() or lon > long_lines.max():\n",
    "        return (-1,-1)\n",
    "    else:\n",
    "        grid_lat = lat_lines[numpy.searchsorted(lat_lines,lat)]\n",
    "        grid_long = long_lines[numpy.searchsorted(long_lines,lon)]\n",
    "    return (grid_lat,grid_long)\n",
    "\n",
    "lat_lines = numpy.linspace(min_lat,max_lat,num=max_lat-min_lat +1)\n",
    "long_lines = numpy.linspace(min_long,max_long,num=max_long-min_long+1)"
   ]
  },
  {
   "cell_type": "code",
   "execution_count": 228,
   "id": "8502d4f5",
   "metadata": {},
   "outputs": [],
   "source": [
    "max_len = 0\n",
    "max_place = 0\n",
    "max_user = 0\n",
    "max_grid = 0\n",
    "sum_len = 0\n",
    "for i in mod_train_dicts:\n",
    "    if(i['reviewText'] != None and len(i['reviewText']) > max_len):\n",
    "        max_len = len(i['reviewText'].split())\n",
    "        sum_len = sum_len + len(i['reviewText'].split())\n",
    "\n",
    "    if(len(usersPerPlace[i['gPlusPlaceId']]) > max_place):\n",
    "        max_place = len(usersPerPlace[i['gPlusPlaceId']])\n",
    "        \n",
    "    if(len(placesPerUser[i['gPlusUserId']]) > max_user):\n",
    "        max_user = len(placesPerUser[i['gPlusUserId']])\n",
    "        \n",
    "    if(len(grid_dicts[grid_id(i['gps'][0], i['gps'][1], lat_lines, long_lines)]) > max_grid):\n",
    "        max_grid = len(grid_dicts[grid_id(i['gps'][0], i['gps'][1], lat_lines, long_lines)])\n",
    "        \n",
    "avg_len = sum_len/len(mod_train_dicts)"
   ]
  },
  {
   "cell_type": "code",
   "execution_count": 229,
   "id": "d02e40e3",
   "metadata": {},
   "outputs": [],
   "source": [
    "x_train_feat = []\n",
    "y_train_lab = []\n",
    "for i in mod_train_dicts:\n",
    "    if(i['reviewText'] != None):\n",
    "        x_train_feat.append([1] + [len(grid_dicts[grid_id(i['gps'][0], i['gps'][1], lat_lines, long_lines)])/max_grid] + [len(i['reviewText'].split())/max_len] + one_hot_cat[str(i['categories'])] + [len(usersPerPlace[i['gPlusPlaceId']])/max_place] + [len(placesPerUser[i['gPlusUserId']])/max_user])\n",
    "    else:\n",
    "        x_train_feat.append([1] + [len(grid_dicts[grid_id(i['gps'][0], i['gps'][1], lat_lines, long_lines)])/max_grid] + [avg_len/max_len] + one_hot_cat[str(i['categories'])] + [len(usersPerPlace[i['gPlusPlaceId']])/max_place] + [len(placesPerUser[i['gPlusUserId']])/max_user])        \n",
    "    y_train_lab.append(i['rating'])"
   ]
  },
  {
   "cell_type": "code",
   "execution_count": 230,
   "id": "0067e901",
   "metadata": {},
   "outputs": [],
   "source": [
    "x_test_feat = []\n",
    "y_test_lab = []\n",
    "for i in mod_test_dicts:\n",
    "    if(i['reviewText'] != None):\n",
    "        x_test_feat.append([1] + [len(grid_dicts[grid_id(i['gps'][0], i['gps'][1], lat_lines, long_lines)])/max_grid] + [len(i['reviewText'].split())/max_len] + one_hot_cat[str(i['categories'])] + [len(usersPerPlace[i['gPlusPlaceId']])/max_place] + [len(placesPerUser[i['gPlusUserId']])/max_user])\n",
    "    else:\n",
    "        x_test_feat.append([1] + [len(grid_dicts[grid_id(i['gps'][0], i['gps'][1], lat_lines, long_lines)])/max_grid] + [avg_len/max_len] + one_hot_cat[str(i['categories'])] + [len(usersPerPlace[i['gPlusPlaceId']])/max_place] + [len(placesPerUser[i['gPlusUserId']])/max_user])        \n",
    "    y_test_lab.append(i['rating'])"
   ]
  },
  {
   "cell_type": "code",
   "execution_count": 231,
   "id": "200b42e5",
   "metadata": {},
   "outputs": [
    {
     "name": "stderr",
     "output_type": "stream",
     "text": [
      "<ipython-input-231-56727cb93e76>:2: FutureWarning: `rcond` parameter will change to the default of machine precision times ``max(M, N)`` where M and N are the input matrix dimensions.\n",
      "To use the future default and silence this warning we advise to pass `rcond=None`, to keep using the old, explicitly pass `rcond=-1`.\n",
      "  theta, residuals, rank, s = numpy.linalg.lstsq(x_train_feat, y_train_lab)\n"
     ]
    }
   ],
   "source": [
    "# Training model and finding theta\n",
    "theta, residuals, rank, s = numpy.linalg.lstsq(x_train_feat, y_train_lab)\n"
   ]
  },
  {
   "cell_type": "code",
   "execution_count": 242,
   "id": "588618cb",
   "metadata": {},
   "outputs": [
    {
     "name": "stdout",
     "output_type": "stream",
     "text": [
      "Train MSE:  1.3635293792313805\n",
      "Val MSE:  1.3326082139137596\n"
     ]
    }
   ],
   "source": [
    "def MSE(y, pred):\n",
    "    sq_err = 0\n",
    "    for i in range(len(y)):\n",
    "        sq_err = sq_err + (y[i] - pred[i])**2\n",
    "    mse = (1/len(y))*sq_err\n",
    "    return mse\n",
    "\n",
    "# Train Predicting\n",
    "pred = []\n",
    "for i in x_train_feat:\n",
    "    pred.append(numpy.dot(theta, i))\n",
    "    \n",
    "for i in range(len(pred)):\n",
    "    if pred[i] > 5:\n",
    "        pred[i] = 5\n",
    "    if pred[i] < 0:\n",
    "        pred[i] = 0\n",
    "    \n",
    "mse = MSE(y_train_lab, pred)\n",
    "print(\"Train MSE: \", mse)\n",
    "\n",
    "# Val Predicting\n",
    "pred = []\n",
    "for i in x_test_feat:\n",
    "    pred.append(numpy.dot(theta, i))\n",
    "\n",
    "for i in range(len(pred)):\n",
    "    if pred[i] > 5:\n",
    "        pred[i] = 5\n",
    "    if pred[i] < 0:\n",
    "        pred[i] = 0\n",
    "\n",
    "mse = MSE(y_test_lab, pred)\n",
    "print(\"Val MSE: \", mse)"
   ]
  },
  {
   "cell_type": "code",
   "execution_count": 256,
   "id": "a26d6701",
   "metadata": {},
   "outputs": [
    {
     "name": "stdout",
     "output_type": "stream",
     "text": [
      "[14:35:45] WARNING: C:/Users/Administrator/workspace/xgboost-win64_release_1.5.1/src/learner.cc:1115: Starting in XGBoost 1.3.0, the default evaluation metric used with the objective 'multi:softprob' was changed from 'merror' to 'mlogloss'. Explicitly set eval_metric if you'd like to restore the old behavior.\n"
     ]
    }
   ],
   "source": [
    "# XGBoost\n",
    "\n",
    "import xgboost as xgb\n",
    "\n",
    "gbm = xgb.XGBClassifier(max_depth=3, n_estimators=500, learning_rate=0.05, gamma = 5, reg_lambda = 5,subsample=0.3, colsample_bytree=0.5).fit(numpy.asarray(x_train_feat), numpy.asarray(y_train_lab))\n",
    "gbm_train_pred = gbm.predict(numpy.asarray(x_train_feat))\n",
    "\n",
    "gbm_val_pred = gbm.predict(numpy.asarray(x_test_feat))"
   ]
  },
  {
   "cell_type": "code",
   "execution_count": 257,
   "id": "081c71d3",
   "metadata": {},
   "outputs": [
    {
     "name": "stdout",
     "output_type": "stream",
     "text": [
      "Train MSE:  2.254835\n",
      "Val MSE:  2.4842000000000004\n"
     ]
    }
   ],
   "source": [
    "'''for i in range(len(gbm_train_pred)):\n",
    "    if gbm_train_pred[i] > 5:\n",
    "        gbm_train_pred[i] = 5\n",
    "    if gbm_train_pred[i] < 0:\n",
    "        gbm_train_pred[i] = 0'''\n",
    "\n",
    "mse = MSE(y_train_lab, gbm_train_pred)\n",
    "print(\"Train MSE: \", mse)\n",
    "\n",
    "'''for i in range(len(gbm_val_pred)):\n",
    "    if gbm_val_pred[i] > 5:\n",
    "        gbm_val_pred[i] = 5\n",
    "    if gbm_val_pred[i] < 0:\n",
    "        gbm_val_pred[i] = 0'''\n",
    "        \n",
    "mse = MSE(y_test_lab, gbm_val_pred)\n",
    "print(\"Val MSE: \", mse)"
   ]
  },
  {
   "cell_type": "code",
   "execution_count": null,
   "id": "86f6fc56",
   "metadata": {},
   "outputs": [],
   "source": []
  }
 ],
 "metadata": {
  "kernelspec": {
   "display_name": "Python 3",
   "language": "python",
   "name": "python3"
  },
  "language_info": {
   "codemirror_mode": {
    "name": "ipython",
    "version": 3
   },
   "file_extension": ".py",
   "mimetype": "text/x-python",
   "name": "python",
   "nbconvert_exporter": "python",
   "pygments_lexer": "ipython3",
   "version": "3.8.8"
  }
 },
 "nbformat": 4,
 "nbformat_minor": 5
}
